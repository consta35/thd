{
  "nbformat": 4,
  "nbformat_minor": 0,
  "metadata": {
    "colab": {
      "name": "Intro_to_python.ipynb",
      "provenance": []
    },
    "kernelspec": {
      "name": "python3",
      "display_name": "Python 3"
    }
  },
  "cells": [
    {
      "cell_type": "code",
      "metadata": {
        "id": "L9PFnfCQW32B",
        "colab_type": "code",
        "colab": {}
      },
      "source": [
        "import pandas as pd\n",
        "import matplotlib.pyplot as plt"
      ],
      "execution_count": 0,
      "outputs": []
    },
    {
      "cell_type": "code",
      "metadata": {
        "id": "cimBkerEXHGT",
        "colab_type": "code",
        "colab": {}
      },
      "source": [
        "url = 'https://raw.githubusercontent.com/consta35/thd/master/Intro_to_Python_Sample_Data.csv'\n",
        "df1 = pd.read_csv(url)"
      ],
      "execution_count": 0,
      "outputs": []
    },
    {
      "cell_type": "code",
      "metadata": {
        "id": "op_raL9wXRZB",
        "colab_type": "code",
        "outputId": "586dc7fe-79fc-4032-9940-98b38c6e1948",
        "colab": {
          "base_uri": "https://localhost:8080/",
          "height": 309
        }
      },
      "source": [
        "df1.head()"
      ],
      "execution_count": 0,
      "outputs": [
        {
          "output_type": "execute_result",
          "data": {
            "text/html": [
              "<div>\n",
              "<style scoped>\n",
              "    .dataframe tbody tr th:only-of-type {\n",
              "        vertical-align: middle;\n",
              "    }\n",
              "\n",
              "    .dataframe tbody tr th {\n",
              "        vertical-align: top;\n",
              "    }\n",
              "\n",
              "    .dataframe thead th {\n",
              "        text-align: right;\n",
              "    }\n",
              "</style>\n",
              "<table border=\"1\" class=\"dataframe\">\n",
              "  <thead>\n",
              "    <tr style=\"text-align: right;\">\n",
              "      <th></th>\n",
              "      <th>Hash_Trans_ID</th>\n",
              "      <th>SKU_ID</th>\n",
              "      <th>Transaction_Date_ID</th>\n",
              "      <th>Transaction_Hour_ID</th>\n",
              "      <th>Online_Order_Type</th>\n",
              "      <th>Online_Order_Type_Desc</th>\n",
              "      <th>Transaction_Type</th>\n",
              "      <th>Transaction_Sales_Type</th>\n",
              "      <th>POS_Sales</th>\n",
              "      <th>POS_UnitsSold</th>\n",
              "      <th>Department_ID</th>\n",
              "      <th>Class_ID</th>\n",
              "      <th>SubClass_ID</th>\n",
              "      <th>SubClass_Desc</th>\n",
              "      <th>Product_Weight</th>\n",
              "      <th>Product_Weight_Dimension</th>\n",
              "      <th>Product_Height</th>\n",
              "      <th>Product_Length</th>\n",
              "      <th>Product_Width</th>\n",
              "      <th>Product_Unit_Dimension</th>\n",
              "      <th>Product_Volumn</th>\n",
              "      <th>Product_Volumn_Unit</th>\n",
              "      <th>PRO</th>\n",
              "    </tr>\n",
              "  </thead>\n",
              "  <tbody>\n",
              "    <tr>\n",
              "      <th>0</th>\n",
              "      <td>d3f687e772e36967aec72e249a5a30017f4f433c</td>\n",
              "      <td>170085.4524</td>\n",
              "      <td>20140114</td>\n",
              "      <td>161945</td>\n",
              "      <td>IN-STORE</td>\n",
              "      <td>IN-STORE</td>\n",
              "      <td>Commercial Line Sale</td>\n",
              "      <td>Sales</td>\n",
              "      <td>1194.00</td>\n",
              "      <td>1.0</td>\n",
              "      <td>25</td>\n",
              "      <td>2121</td>\n",
              "      <td>10749</td>\n",
              "      <td>25XX0807 MITER SAWS</td>\n",
              "      <td>38</td>\n",
              "      <td>LB</td>\n",
              "      <td>18</td>\n",
              "      <td>25</td>\n",
              "      <td>20</td>\n",
              "      <td>IN</td>\n",
              "      <td>4</td>\n",
              "      <td>FT3</td>\n",
              "      <td>0</td>\n",
              "    </tr>\n",
              "    <tr>\n",
              "      <th>1</th>\n",
              "      <td>aab9ab77c8169454a719414325702fd15ebfeba0</td>\n",
              "      <td>170084.1813</td>\n",
              "      <td>20150423</td>\n",
              "      <td>81833</td>\n",
              "      <td>IN-STORE</td>\n",
              "      <td>IN-STORE</td>\n",
              "      <td>Front line - Sales</td>\n",
              "      <td>Sales</td>\n",
              "      <td>474.96</td>\n",
              "      <td>4.0</td>\n",
              "      <td>23</td>\n",
              "      <td>2057</td>\n",
              "      <td>10350</td>\n",
              "      <td>23XX1105 LAMINATE AC</td>\n",
              "      <td>2</td>\n",
              "      <td>LB</td>\n",
              "      <td>3</td>\n",
              "      <td>3</td>\n",
              "      <td>12</td>\n",
              "      <td>IN</td>\n",
              "      <td>0</td>\n",
              "      <td>FT3</td>\n",
              "      <td>1</td>\n",
              "    </tr>\n",
              "    <tr>\n",
              "      <th>2</th>\n",
              "      <td>3230f7850b99cd98b73a319f4cfaf266b98151b0</td>\n",
              "      <td>170091.8901</td>\n",
              "      <td>20150508</td>\n",
              "      <td>93708</td>\n",
              "      <td>IN-STORE</td>\n",
              "      <td>IN-STORE</td>\n",
              "      <td>Pro Desk - Refund</td>\n",
              "      <td>Special Order Sales</td>\n",
              "      <td>1110.96</td>\n",
              "      <td>3.0</td>\n",
              "      <td>23</td>\n",
              "      <td>2050</td>\n",
              "      <td>12677</td>\n",
              "      <td>23XX0412 GRIPSTRIP T</td>\n",
              "      <td>37</td>\n",
              "      <td>LB</td>\n",
              "      <td>14</td>\n",
              "      <td>2</td>\n",
              "      <td>38</td>\n",
              "      <td>IN</td>\n",
              "      <td>0</td>\n",
              "      <td>FT3</td>\n",
              "      <td>1</td>\n",
              "    </tr>\n",
              "    <tr>\n",
              "      <th>3</th>\n",
              "      <td>f364a11c471d66534cd04244c827a7f4393f6259</td>\n",
              "      <td>170113.4248</td>\n",
              "      <td>20150511</td>\n",
              "      <td>93132</td>\n",
              "      <td>IN-STORE</td>\n",
              "      <td>IN-STORE</td>\n",
              "      <td>Garden Sales</td>\n",
              "      <td>Sales</td>\n",
              "      <td>59.94</td>\n",
              "      <td>1.0</td>\n",
              "      <td>28</td>\n",
              "      <td>2204</td>\n",
              "      <td>11322</td>\n",
              "      <td>28XX0310 AMENDMENTS/</td>\n",
              "      <td>22</td>\n",
              "      <td>LB</td>\n",
              "      <td>9</td>\n",
              "      <td>12</td>\n",
              "      <td>15</td>\n",
              "      <td>IN</td>\n",
              "      <td>1</td>\n",
              "      <td>FT3</td>\n",
              "      <td>0</td>\n",
              "    </tr>\n",
              "    <tr>\n",
              "      <th>4</th>\n",
              "      <td>f364a11c471d66534cd04244c827a7f4393f6259</td>\n",
              "      <td>170028.8084</td>\n",
              "      <td>20150511</td>\n",
              "      <td>93132</td>\n",
              "      <td>IN-STORE</td>\n",
              "      <td>IN-STORE</td>\n",
              "      <td>Garden Sales</td>\n",
              "      <td>Sales</td>\n",
              "      <td>71.94</td>\n",
              "      <td>1.0</td>\n",
              "      <td>28</td>\n",
              "      <td>2204</td>\n",
              "      <td>11322</td>\n",
              "      <td>28XX0310 AMENDMENTS/</td>\n",
              "      <td>0</td>\n",
              "      <td>LB</td>\n",
              "      <td>0</td>\n",
              "      <td>0</td>\n",
              "      <td>0</td>\n",
              "      <td>IN</td>\n",
              "      <td>0</td>\n",
              "      <td>FT3</td>\n",
              "      <td>0</td>\n",
              "    </tr>\n",
              "  </tbody>\n",
              "</table>\n",
              "</div>"
            ],
            "text/plain": [
              "                              Hash_Trans_ID  ...  PRO\n",
              "0  d3f687e772e36967aec72e249a5a30017f4f433c  ...    0\n",
              "1  aab9ab77c8169454a719414325702fd15ebfeba0  ...    1\n",
              "2  3230f7850b99cd98b73a319f4cfaf266b98151b0  ...    1\n",
              "3  f364a11c471d66534cd04244c827a7f4393f6259  ...    0\n",
              "4  f364a11c471d66534cd04244c827a7f4393f6259  ...    0\n",
              "\n",
              "[5 rows x 23 columns]"
            ]
          },
          "metadata": {
            "tags": []
          },
          "execution_count": 3
        }
      ]
    },
    {
      "cell_type": "code",
      "metadata": {
        "id": "eTPZTxNHXYEH",
        "colab_type": "code",
        "outputId": "42fabe6d-e63f-4a39-8557-1e1f3d14f640",
        "colab": {
          "base_uri": "https://localhost:8080/",
          "height": 34
        }
      },
      "source": [
        "## Average Basket\n",
        "df1.POS_Sales.mean()"
      ],
      "execution_count": 0,
      "outputs": [
        {
          "output_type": "execute_result",
          "data": {
            "text/plain": [
              "421.5535570469796"
            ]
          },
          "metadata": {
            "tags": []
          },
          "execution_count": 4
        }
      ]
    },
    {
      "cell_type": "code",
      "metadata": {
        "id": "kQijUoJNpS2m",
        "colab_type": "code",
        "colab": {
          "base_uri": "https://localhost:8080/",
          "height": 153
        },
        "outputId": "e842d45a-3aae-467e-d871-c70e893d3547"
      },
      "source": [
        "df1.columns"
      ],
      "execution_count": 28,
      "outputs": [
        {
          "output_type": "execute_result",
          "data": {
            "text/plain": [
              "Index(['Hash_Trans_ID', 'SKU_ID', 'Transaction_Date_ID', 'Transaction_Hour_ID',\n",
              "       'Online_Order_Type', 'Online_Order_Type_Desc', 'Transaction_Type',\n",
              "       'Transaction_Sales_Type', 'POS_Sales', 'POS_UnitsSold', 'Department_ID',\n",
              "       'Class_ID', 'SubClass_ID', 'SubClass_Desc', 'Product_Weight',\n",
              "       'Product_Weight_Dimension', 'Product_Height', 'Product_Length',\n",
              "       'Product_Width', 'Product_Unit_Dimension', 'Product_Volumn',\n",
              "       'Product_Volumn_Unit', 'PRO'],\n",
              "      dtype='object')"
            ]
          },
          "metadata": {
            "tags": []
          },
          "execution_count": 28
        }
      ]
    },
    {
      "cell_type": "code",
      "metadata": {
        "id": "ScxoEh6E9rCH",
        "colab_type": "code",
        "colab": {
          "base_uri": "https://localhost:8080/",
          "height": 317
        },
        "outputId": "2d397216-a220-494d-ed9f-379f5f527938"
      },
      "source": [
        "df1.describe()"
      ],
      "execution_count": 51,
      "outputs": [
        {
          "output_type": "execute_result",
          "data": {
            "text/html": [
              "<div>\n",
              "<style scoped>\n",
              "    .dataframe tbody tr th:only-of-type {\n",
              "        vertical-align: middle;\n",
              "    }\n",
              "\n",
              "    .dataframe tbody tr th {\n",
              "        vertical-align: top;\n",
              "    }\n",
              "\n",
              "    .dataframe thead th {\n",
              "        text-align: right;\n",
              "    }\n",
              "</style>\n",
              "<table border=\"1\" class=\"dataframe\">\n",
              "  <thead>\n",
              "    <tr style=\"text-align: right;\">\n",
              "      <th></th>\n",
              "      <th>SKU_ID</th>\n",
              "      <th>Transaction_Date_ID</th>\n",
              "      <th>Transaction_Hour_ID</th>\n",
              "      <th>POS_Sales</th>\n",
              "      <th>POS_UnitsSold</th>\n",
              "      <th>Department_ID</th>\n",
              "      <th>Class_ID</th>\n",
              "      <th>SubClass_ID</th>\n",
              "      <th>Product_Weight</th>\n",
              "      <th>Product_Height</th>\n",
              "      <th>Product_Length</th>\n",
              "      <th>Product_Width</th>\n",
              "      <th>Product_Volumn</th>\n",
              "      <th>PRO</th>\n",
              "    </tr>\n",
              "  </thead>\n",
              "  <tbody>\n",
              "    <tr>\n",
              "      <th>count</th>\n",
              "      <td>149.00000</td>\n",
              "      <td>1.490000e+02</td>\n",
              "      <td>149.000000</td>\n",
              "      <td>149.000000</td>\n",
              "      <td>149.000000</td>\n",
              "      <td>149.000000</td>\n",
              "      <td>149.000000</td>\n",
              "      <td>149.000000</td>\n",
              "      <td>149.000000</td>\n",
              "      <td>149.000000</td>\n",
              "      <td>149.000000</td>\n",
              "      <td>149.000000</td>\n",
              "      <td>149.000000</td>\n",
              "      <td>149.000000</td>\n",
              "    </tr>\n",
              "    <tr>\n",
              "      <th>mean</th>\n",
              "      <td>170087.80276</td>\n",
              "      <td>2.014728e+07</td>\n",
              "      <td>130177.040268</td>\n",
              "      <td>421.553557</td>\n",
              "      <td>4.534899</td>\n",
              "      <td>26.456376</td>\n",
              "      <td>2178.187919</td>\n",
              "      <td>11264.973154</td>\n",
              "      <td>9.181208</td>\n",
              "      <td>14.241611</td>\n",
              "      <td>20.416107</td>\n",
              "      <td>32.751678</td>\n",
              "      <td>0.859060</td>\n",
              "      <td>0.684564</td>\n",
              "    </tr>\n",
              "    <tr>\n",
              "      <th>std</th>\n",
              "      <td>44.55978</td>\n",
              "      <td>5.315956e+03</td>\n",
              "      <td>38507.062688</td>\n",
              "      <td>1645.088856</td>\n",
              "      <td>18.989161</td>\n",
              "      <td>8.203891</td>\n",
              "      <td>109.105167</td>\n",
              "      <td>806.930872</td>\n",
              "      <td>23.366369</td>\n",
              "      <td>55.554411</td>\n",
              "      <td>29.779846</td>\n",
              "      <td>161.325418</td>\n",
              "      <td>2.688866</td>\n",
              "      <td>0.466257</td>\n",
              "    </tr>\n",
              "    <tr>\n",
              "      <th>min</th>\n",
              "      <td>170017.23120</td>\n",
              "      <td>2.013051e+07</td>\n",
              "      <td>73238.000000</td>\n",
              "      <td>-4194.000000</td>\n",
              "      <td>-90.000000</td>\n",
              "      <td>11.000000</td>\n",
              "      <td>2004.000000</td>\n",
              "      <td>10026.000000</td>\n",
              "      <td>0.000000</td>\n",
              "      <td>0.000000</td>\n",
              "      <td>0.000000</td>\n",
              "      <td>0.000000</td>\n",
              "      <td>0.000000</td>\n",
              "      <td>0.000000</td>\n",
              "    </tr>\n",
              "    <tr>\n",
              "      <th>25%</th>\n",
              "      <td>170031.55860</td>\n",
              "      <td>2.014113e+07</td>\n",
              "      <td>100321.000000</td>\n",
              "      <td>65.940000</td>\n",
              "      <td>1.000000</td>\n",
              "      <td>23.000000</td>\n",
              "      <td>2081.000000</td>\n",
              "      <td>10537.000000</td>\n",
              "      <td>0.000000</td>\n",
              "      <td>1.000000</td>\n",
              "      <td>2.000000</td>\n",
              "      <td>2.000000</td>\n",
              "      <td>0.000000</td>\n",
              "      <td>0.000000</td>\n",
              "    </tr>\n",
              "    <tr>\n",
              "      <th>50%</th>\n",
              "      <td>170091.86150</td>\n",
              "      <td>2.015041e+07</td>\n",
              "      <td>123047.000000</td>\n",
              "      <td>149.220000</td>\n",
              "      <td>1.000000</td>\n",
              "      <td>27.000000</td>\n",
              "      <td>2173.000000</td>\n",
              "      <td>11175.000000</td>\n",
              "      <td>1.000000</td>\n",
              "      <td>3.000000</td>\n",
              "      <td>7.000000</td>\n",
              "      <td>5.000000</td>\n",
              "      <td>0.000000</td>\n",
              "      <td>1.000000</td>\n",
              "    </tr>\n",
              "    <tr>\n",
              "      <th>75%</th>\n",
              "      <td>170125.79470</td>\n",
              "      <td>2.015070e+07</td>\n",
              "      <td>161237.000000</td>\n",
              "      <td>393.960000</td>\n",
              "      <td>3.000000</td>\n",
              "      <td>28.000000</td>\n",
              "      <td>2258.000000</td>\n",
              "      <td>11937.000000</td>\n",
              "      <td>7.000000</td>\n",
              "      <td>9.000000</td>\n",
              "      <td>28.000000</td>\n",
              "      <td>12.000000</td>\n",
              "      <td>0.000000</td>\n",
              "      <td>1.000000</td>\n",
              "    </tr>\n",
              "    <tr>\n",
              "      <th>max</th>\n",
              "      <td>170161.50290</td>\n",
              "      <td>2.015111e+07</td>\n",
              "      <td>210714.000000</td>\n",
              "      <td>17280.780000</td>\n",
              "      <td>144.000000</td>\n",
              "      <td>59.000000</td>\n",
              "      <td>2414.000000</td>\n",
              "      <td>12698.000000</td>\n",
              "      <td>210.000000</td>\n",
              "      <td>575.000000</td>\n",
              "      <td>151.000000</td>\n",
              "      <td>1625.000000</td>\n",
              "      <td>19.000000</td>\n",
              "      <td>1.000000</td>\n",
              "    </tr>\n",
              "  </tbody>\n",
              "</table>\n",
              "</div>"
            ],
            "text/plain": [
              "             SKU_ID  Transaction_Date_ID  ...  Product_Volumn         PRO\n",
              "count     149.00000         1.490000e+02  ...      149.000000  149.000000\n",
              "mean   170087.80276         2.014728e+07  ...        0.859060    0.684564\n",
              "std        44.55978         5.315956e+03  ...        2.688866    0.466257\n",
              "min    170017.23120         2.013051e+07  ...        0.000000    0.000000\n",
              "25%    170031.55860         2.014113e+07  ...        0.000000    0.000000\n",
              "50%    170091.86150         2.015041e+07  ...        0.000000    1.000000\n",
              "75%    170125.79470         2.015070e+07  ...        0.000000    1.000000\n",
              "max    170161.50290         2.015111e+07  ...       19.000000    1.000000\n",
              "\n",
              "[8 rows x 14 columns]"
            ]
          },
          "metadata": {
            "tags": []
          },
          "execution_count": 51
        }
      ]
    },
    {
      "cell_type": "code",
      "metadata": {
        "id": "8xIYog86XSjB",
        "colab_type": "code",
        "colab": {}
      },
      "source": [
        "## Average Basket Pros vs Consumers\n",
        "break_down = df1.groupby(['Department_ID']).agg({'POS_Sales':'mean', \n",
        "                          'Hash_Trans_ID' : pd.Series.nunique,\n",
        "                         'SubClass_Desc' : pd.Series.nunique}).reset_index().sort_values('POS_Sales', ascending = False)"
      ],
      "execution_count": 0,
      "outputs": []
    },
    {
      "cell_type": "code",
      "metadata": {
        "id": "2cte0HkncyD8",
        "colab_type": "code",
        "colab": {
          "base_uri": "https://localhost:8080/",
          "height": 300
        },
        "outputId": "b80ae9dc-f479-4fc4-bde4-d1c440e2575a"
      },
      "source": [
        "break_down.plot(x = 'Department_ID', y ='POS_Sales', kind = 'bar')"
      ],
      "execution_count": 56,
      "outputs": [
        {
          "output_type": "execute_result",
          "data": {
            "text/plain": [
              "<matplotlib.axes._subplots.AxesSubplot at 0x7fb2032c0c50>"
            ]
          },
          "metadata": {
            "tags": []
          },
          "execution_count": 56
        },
        {
          "output_type": "display_data",
          "data": {
            "image/png": "[encoded data removed]",
            "text/plain": [
              "<Figure size 432x288 with 1 Axes>"
            ]
          },
          "metadata": {
            "tags": []
          }
        }
      ]
    },
    {
      "cell_type": "code",
      "metadata": {
        "id": "hGDu9CHQ5U3S",
        "colab_type": "code",
        "colab": {}
      },
      "source": [
        ""
      ],
      "execution_count": 0,
      "outputs": []
    },
    {
      "cell_type": "code",
      "metadata": {
        "id": "VKxq26A-i3ip",
        "colab_type": "code",
        "colab": {}
      },
      "source": [
        "consumers = df1[df1['PRO'] == 0]"
      ],
      "execution_count": 0,
      "outputs": []
    },
    {
      "cell_type": "code",
      "metadata": {
        "id": "Von8dYz2jGf_",
        "colab_type": "code",
        "colab": {
          "base_uri": "https://localhost:8080/",
          "height": 170
        },
        "outputId": "918b3609-1e25-4c44-d975-e3424140c9d0"
      },
      "source": [
        "consumers['POS_Sales'].describe()"
      ],
      "execution_count": 12,
      "outputs": [
        {
          "output_type": "execute_result",
          "data": {
            "text/plain": [
              "count       47.000000\n",
              "mean       792.218298\n",
              "std       2553.547945\n",
              "min       -479.100000\n",
              "25%         71.850000\n",
              "50%        179.880000\n",
              "75%        548.640000\n",
              "max      17280.780000\n",
              "Name: POS_Sales, dtype: float64"
            ]
          },
          "metadata": {
            "tags": []
          },
          "execution_count": 12
        }
      ]
    },
    {
      "cell_type": "code",
      "metadata": {
        "id": "kHFtAO7jjJp_",
        "colab_type": "code",
        "colab": {
          "base_uri": "https://localhost:8080/",
          "height": 333
        },
        "outputId": "48dee067-4824-4d25-f2f4-68b6eea07723"
      },
      "source": [
        "plt.hist(consumers['POS_Sales'])"
      ],
      "execution_count": 19,
      "outputs": [
        {
          "output_type": "execute_result",
          "data": {
            "text/plain": [
              "(array([42.,  3.,  1.,  0.,  0.,  0.,  0.,  0.,  0.,  1.]),\n",
              " array([ -479.1  ,  1296.888,  3072.876,  4848.864,  6624.852,  8400.84 ,\n",
              "        10176.828, 11952.816, 13728.804, 15504.792, 17280.78 ]),\n",
              " <a list of 10 Patch objects>)"
            ]
          },
          "metadata": {
            "tags": []
          },
          "execution_count": 19
        },
        {
          "output_type": "display_data",
          "data": {
            "image/png": "[encoded data removed]",
            "text/plain": [
              "<Figure size 432x288 with 1 Axes>"
            ]
          },
          "metadata": {
            "tags": []
          }
        }
      ]
    },
    {
      "cell_type": "code",
      "metadata": {
        "id": "HZgEfiVNlotv",
        "colab_type": "code",
        "colab": {
          "base_uri": "https://localhost:8080/",
          "height": 34
        },
        "outputId": "8bbf2981-48af-44ab-c606-d6ce9c5b5b8b"
      },
      "source": [
        "17280 > (2* 2553.55)"
      ],
      "execution_count": 27,
      "outputs": [
        {
          "output_type": "execute_result",
          "data": {
            "text/plain": [
              "True"
            ]
          },
          "metadata": {
            "tags": []
          },
          "execution_count": 27
        }
      ]
    },
    {
      "cell_type": "code",
      "metadata": {
        "id": "Ixrj4P6q1O_u",
        "colab_type": "code",
        "colab": {}
      },
      "source": [
        ""
      ],
      "execution_count": 0,
      "outputs": []
    },
    {
      "cell_type": "code",
      "metadata": {
        "id": "mRkz6cV3jU9J",
        "colab_type": "code",
        "colab": {}
      },
      "source": [
        "pros = df1[df1['PRO'] == 1]"
      ],
      "execution_count": 0,
      "outputs": []
    },
    {
      "cell_type": "code",
      "metadata": {
        "id": "CeQHmc5AkWvx",
        "colab_type": "code",
        "colab": {
          "base_uri": "https://localhost:8080/",
          "height": 170
        },
        "outputId": "4c855367-7eaa-4ef5-f104-08b01b8de32b"
      },
      "source": [
        "pros['POS_Sales'].describe()"
      ],
      "execution_count": 24,
      "outputs": [
        {
          "output_type": "execute_result",
          "data": {
            "text/plain": [
              "count     102.000000\n",
              "mean      250.757059\n",
              "std       950.008401\n",
              "min     -4194.000000\n",
              "25%        62.250000\n",
              "50%       143.940000\n",
              "75%       360.000000\n",
              "max      5954.760000\n",
              "Name: POS_Sales, dtype: float64"
            ]
          },
          "metadata": {
            "tags": []
          },
          "execution_count": 24
        }
      ]
    },
    {
      "cell_type": "code",
      "metadata": {
        "id": "YA7OeIFMk36P",
        "colab_type": "code",
        "colab": {
          "base_uri": "https://localhost:8080/",
          "height": 333
        },
        "outputId": "041cf8a8-30c9-4dbd-c76c-e716dea5237a"
      },
      "source": [
        "plt.hist(pros['POS_Sales'])"
      ],
      "execution_count": 29,
      "outputs": [
        {
          "output_type": "execute_result",
          "data": {
            "text/plain": [
              "(array([ 2.,  0.,  1.,  2., 88.,  6.,  2.,  0.,  0.,  1.]),\n",
              " array([-4194.   , -3179.124, -2164.248, -1149.372,  -134.496,   880.38 ,\n",
              "         1895.256,  2910.132,  3925.008,  4939.884,  5954.76 ]),\n",
              " <a list of 10 Patch objects>)"
            ]
          },
          "metadata": {
            "tags": []
          },
          "execution_count": 29
        },
        {
          "output_type": "display_data",
          "data": {
            "image/png": "[encoded data removed]",
            "text/plain": [
              "<Figure size 432x288 with 1 Axes>"
            ]
          },
          "metadata": {
            "tags": []
          }
        }
      ]
    },
    {
      "cell_type": "code",
      "metadata": {
        "id": "PLSuGDQR1uuh",
        "colab_type": "code",
        "colab": {
          "base_uri": "https://localhost:8080/",
          "height": 34
        },
        "outputId": "7170efbb-ab70-4e78-8a14-2d3c37707a70"
      },
      "source": [
        "2*950"
      ],
      "execution_count": 30,
      "outputs": [
        {
          "output_type": "execute_result",
          "data": {
            "text/plain": [
              "1900"
            ]
          },
          "metadata": {
            "tags": []
          },
          "execution_count": 30
        }
      ]
    },
    {
      "cell_type": "code",
      "metadata": {
        "id": "BILzAEAw2Xsg",
        "colab_type": "code",
        "colab": {
          "base_uri": "https://localhost:8080/",
          "height": 333
        },
        "outputId": "b3fffe32-e569-46f6-a5d0-a3f464f1953d"
      },
      "source": [
        "plt.hist(df1['POS_Sales'])"
      ],
      "execution_count": 31,
      "outputs": [
        {
          "output_type": "execute_result",
          "data": {
            "text/plain": [
              "(array([ 2., 58., 83.,  4.,  1.,  0.,  0.,  0.,  0.,  1.]),\n",
              " array([-4194.   , -2046.522,   100.956,  2248.434,  4395.912,  6543.39 ,\n",
              "         8690.868, 10838.346, 12985.824, 15133.302, 17280.78 ]),\n",
              " <a list of 10 Patch objects>)"
            ]
          },
          "metadata": {
            "tags": []
          },
          "execution_count": 31
        },
        {
          "output_type": "display_data",
          "data": {
            "image/png": "[encoded data removed]",
            "text/plain": [
              "<Figure size 432x288 with 1 Axes>"
            ]
          },
          "metadata": {
            "tags": []
          }
        }
      ]
    },
    {
      "cell_type": "code",
      "metadata": {
        "id": "VoTH8cXE3Y8f",
        "colab_type": "code",
        "colab": {
          "base_uri": "https://localhost:8080/",
          "height": 170
        },
        "outputId": "0764a6cb-0cbf-4dbb-a2a3-ec925a9063f1"
      },
      "source": [
        "df1['POS_Sales'].describe()"
      ],
      "execution_count": 32,
      "outputs": [
        {
          "output_type": "execute_result",
          "data": {
            "text/plain": [
              "count      149.000000\n",
              "mean       421.553557\n",
              "std       1645.088856\n",
              "min      -4194.000000\n",
              "25%         65.940000\n",
              "50%        149.220000\n",
              "75%        393.960000\n",
              "max      17280.780000\n",
              "Name: POS_Sales, dtype: float64"
            ]
          },
          "metadata": {
            "tags": []
          },
          "execution_count": 32
        }
      ]
    },
    {
      "cell_type": "code",
      "metadata": {
        "id": "ytNv3PmJ3crX",
        "colab_type": "code",
        "colab": {}
      },
      "source": [
        "df2 = df1[(df1['POS_Sales']< 17000)]"
      ],
      "execution_count": 0,
      "outputs": []
    },
    {
      "cell_type": "code",
      "metadata": {
        "id": "Mkyqr4Co4B0X",
        "colab_type": "code",
        "colab": {
          "base_uri": "https://localhost:8080/",
          "height": 111
        },
        "outputId": "cf4203cf-e57d-4983-a02f-15c568868bd0"
      },
      "source": [
        "df2.groupby(['PRO']).agg({'POS_Sales': 'mean'}).reset_index()"
      ],
      "execution_count": 36,
      "outputs": [
        {
          "output_type": "execute_result",
          "data": {
            "text/html": [
              "<div>\n",
              "<style scoped>\n",
              "    .dataframe tbody tr th:only-of-type {\n",
              "        vertical-align: middle;\n",
              "    }\n",
              "\n",
              "    .dataframe tbody tr th {\n",
              "        vertical-align: top;\n",
              "    }\n",
              "\n",
              "    .dataframe thead th {\n",
              "        text-align: right;\n",
              "    }\n",
              "</style>\n",
              "<table border=\"1\" class=\"dataframe\">\n",
              "  <thead>\n",
              "    <tr style=\"text-align: right;\">\n",
              "      <th></th>\n",
              "      <th>PRO</th>\n",
              "      <th>POS_Sales</th>\n",
              "    </tr>\n",
              "  </thead>\n",
              "  <tbody>\n",
              "    <tr>\n",
              "      <th>0</th>\n",
              "      <td>0</td>\n",
              "      <td>433.771304</td>\n",
              "    </tr>\n",
              "    <tr>\n",
              "      <th>1</th>\n",
              "      <td>1</td>\n",
              "      <td>250.757059</td>\n",
              "    </tr>\n",
              "  </tbody>\n",
              "</table>\n",
              "</div>"
            ],
            "text/plain": [
              "   PRO   POS_Sales\n",
              "0    0  433.771304\n",
              "1    1  250.757059"
            ]
          },
          "metadata": {
            "tags": []
          },
          "execution_count": 36
        }
      ]
    },
    {
      "cell_type": "code",
      "metadata": {
        "id": "D9qoGcqs4LWf",
        "colab_type": "code",
        "colab": {}
      },
      "source": [
        ""
      ],
      "execution_count": 0,
      "outputs": []
    }
  ]
}