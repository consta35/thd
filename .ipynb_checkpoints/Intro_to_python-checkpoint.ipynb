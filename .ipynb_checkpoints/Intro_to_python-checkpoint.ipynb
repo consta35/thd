{
 "cells": [
  {
   "cell_type": "code",
   "execution_count": 0,
   "metadata": {
    "colab": {},
    "colab_type": "code",
    "id": "L9PFnfCQW32B"
   },
   "outputs": [],
   "source": [
    "import pandas as pd\n",
    "import matplotlib.pyplot as plt"
   ]
  },
  {
   "cell_type": "code",
   "execution_count": 0,
   "metadata": {
    "colab": {},
    "colab_type": "code",
    "id": "cimBkerEXHGT"
   },
   "outputs": [],
   "source": [
    "url = 'https://raw.githubusercontent.com/consta35/thd/master/Intro_to_Python_Sample_Data.csv'\n",
    "data = pd.read_csv(url)"
   ]
  },
  {
   "cell_type": "code",
   "execution_count": 42,
   "metadata": {
    "colab": {
     "base_uri": "https://localhost:8080/",
     "height": 309
    },
    "colab_type": "code",
    "id": "op_raL9wXRZB",
    "outputId": "2fba55c5-f12f-489f-8b97-b4eacdd71218"
   },
   "outputs": [
    {
     "data": {
      "text/html": [
       "<div>\n",
       "<style scoped>\n",
       "    .dataframe tbody tr th:only-of-type {\n",
       "        vertical-align: middle;\n",
       "    }\n",
       "\n",
       "    .dataframe tbody tr th {\n",
       "        vertical-align: top;\n",
       "    }\n",
       "\n",
       "    .dataframe thead th {\n",
       "        text-align: right;\n",
       "    }\n",
       "</style>\n",
       "<table border=\"1\" class=\"dataframe\">\n",
       "  <thead>\n",
       "    <tr style=\"text-align: right;\">\n",
       "      <th></th>\n",
       "      <th>Hash_Trans_ID</th>\n",
       "      <th>SKU_ID</th>\n",
       "      <th>Transaction_Date_ID</th>\n",
       "      <th>Transaction_Hour_ID</th>\n",
       "      <th>Online_Order_Type</th>\n",
       "      <th>Online_Order_Type_Desc</th>\n",
       "      <th>Transaction_Type</th>\n",
       "      <th>Transaction_Sales_Type</th>\n",
       "      <th>POS_Sales</th>\n",
       "      <th>POS_UnitsSold</th>\n",
       "      <th>Department_ID</th>\n",
       "      <th>Class_ID</th>\n",
       "      <th>SubClass_ID</th>\n",
       "      <th>SubClass_Desc</th>\n",
       "      <th>PRO</th>\n",
       "    </tr>\n",
       "  </thead>\n",
       "  <tbody>\n",
       "    <tr>\n",
       "      <th>0</th>\n",
       "      <td>d3f687e772e36967aec72e249a5a30017f4f433c</td>\n",
       "      <td>170085.4524</td>\n",
       "      <td>20140114</td>\n",
       "      <td>161945</td>\n",
       "      <td>IN-STORE</td>\n",
       "      <td>IN-STORE</td>\n",
       "      <td>Commercial Line Sale</td>\n",
       "      <td>Sales</td>\n",
       "      <td>1194.00</td>\n",
       "      <td>1.0</td>\n",
       "      <td>25</td>\n",
       "      <td>2121</td>\n",
       "      <td>10749</td>\n",
       "      <td>25XX0807 MITER SAWS</td>\n",
       "      <td>0</td>\n",
       "    </tr>\n",
       "    <tr>\n",
       "      <th>1</th>\n",
       "      <td>aab9ab77c8169454a719414325702fd15ebfeba0</td>\n",
       "      <td>170084.1813</td>\n",
       "      <td>20150423</td>\n",
       "      <td>81833</td>\n",
       "      <td>IN-STORE</td>\n",
       "      <td>IN-STORE</td>\n",
       "      <td>Front line - Sales</td>\n",
       "      <td>Sales</td>\n",
       "      <td>474.96</td>\n",
       "      <td>4.0</td>\n",
       "      <td>23</td>\n",
       "      <td>2057</td>\n",
       "      <td>10350</td>\n",
       "      <td>23XX1105 LAMINATE AC</td>\n",
       "      <td>1</td>\n",
       "    </tr>\n",
       "    <tr>\n",
       "      <th>2</th>\n",
       "      <td>3230f7850b99cd98b73a319f4cfaf266b98151b0</td>\n",
       "      <td>170091.8901</td>\n",
       "      <td>20150508</td>\n",
       "      <td>93708</td>\n",
       "      <td>IN-STORE</td>\n",
       "      <td>IN-STORE</td>\n",
       "      <td>Pro Desk - Refund</td>\n",
       "      <td>Special Order Sales</td>\n",
       "      <td>1110.96</td>\n",
       "      <td>3.0</td>\n",
       "      <td>23</td>\n",
       "      <td>2050</td>\n",
       "      <td>12677</td>\n",
       "      <td>23XX0412 GRIPSTRIP T</td>\n",
       "      <td>1</td>\n",
       "    </tr>\n",
       "    <tr>\n",
       "      <th>3</th>\n",
       "      <td>f364a11c471d66534cd04244c827a7f4393f6259</td>\n",
       "      <td>170113.4248</td>\n",
       "      <td>20150511</td>\n",
       "      <td>93132</td>\n",
       "      <td>IN-STORE</td>\n",
       "      <td>IN-STORE</td>\n",
       "      <td>Garden Sales</td>\n",
       "      <td>Sales</td>\n",
       "      <td>59.94</td>\n",
       "      <td>1.0</td>\n",
       "      <td>28</td>\n",
       "      <td>2204</td>\n",
       "      <td>11322</td>\n",
       "      <td>28XX0310 AMENDMENTS/</td>\n",
       "      <td>0</td>\n",
       "    </tr>\n",
       "    <tr>\n",
       "      <th>4</th>\n",
       "      <td>f364a11c471d66534cd04244c827a7f4393f6259</td>\n",
       "      <td>170028.8084</td>\n",
       "      <td>20150511</td>\n",
       "      <td>93132</td>\n",
       "      <td>IN-STORE</td>\n",
       "      <td>IN-STORE</td>\n",
       "      <td>Garden Sales</td>\n",
       "      <td>Sales</td>\n",
       "      <td>71.94</td>\n",
       "      <td>1.0</td>\n",
       "      <td>28</td>\n",
       "      <td>2204</td>\n",
       "      <td>11322</td>\n",
       "      <td>28XX0310 AMENDMENTS/</td>\n",
       "      <td>0</td>\n",
       "    </tr>\n",
       "  </tbody>\n",
       "</table>\n",
       "</div>"
      ],
      "text/plain": [
       "                              Hash_Trans_ID  ...  PRO\n",
       "0  d3f687e772e36967aec72e249a5a30017f4f433c  ...    0\n",
       "1  aab9ab77c8169454a719414325702fd15ebfeba0  ...    1\n",
       "2  3230f7850b99cd98b73a319f4cfaf266b98151b0  ...    1\n",
       "3  f364a11c471d66534cd04244c827a7f4393f6259  ...    0\n",
       "4  f364a11c471d66534cd04244c827a7f4393f6259  ...    0\n",
       "\n",
       "[5 rows x 15 columns]"
      ]
     },
     "execution_count": 42,
     "metadata": {
      "tags": []
     },
     "output_type": "execute_result"
    }
   ],
   "source": [
    "## preview data\n",
    "data.head()"
   ]
  },
  {
   "cell_type": "code",
   "execution_count": 6,
   "metadata": {
    "colab": {
     "base_uri": "https://localhost:8080/",
     "height": 34
    },
    "colab_type": "code",
    "id": "7PrmSTvvJF2q",
    "outputId": "e830df25-2699-4512-f0fc-e2f6f51d188e"
   },
   "outputs": [
    {
     "data": {
      "text/plain": [
       "149"
      ]
     },
     "execution_count": 6,
     "metadata": {
      "tags": []
     },
     "output_type": "execute_result"
    }
   ],
   "source": [
    "## Get number of rows of data\n",
    "len(data)"
   ]
  },
  {
   "cell_type": "code",
   "execution_count": 7,
   "metadata": {
    "colab": {
     "base_uri": "https://localhost:8080/",
     "height": 153
    },
    "colab_type": "code",
    "id": "QGKlMYrwJI9P",
    "outputId": "225fb756-a69b-4a4a-ca79-991ea2140146"
   },
   "outputs": [
    {
     "data": {
      "text/plain": [
       "Index(['Hash_Trans_ID', 'SKU_ID', 'Transaction_Date_ID', 'Transaction_Hour_ID',\n",
       "       'Online_Order_Type', 'Online_Order_Type_Desc', 'Transaction_Type',\n",
       "       'Transaction_Sales_Type', 'POS_Sales', 'POS_UnitsSold', 'Department_ID',\n",
       "       'Class_ID', 'SubClass_ID', 'SubClass_Desc', 'Product_Weight',\n",
       "       'Product_Weight_Dimension', 'Product_Height', 'Product_Length',\n",
       "       'Product_Width', 'Product_Unit_Dimension', 'Product_Volumn',\n",
       "       'Product_Volumn_Unit', 'PRO'],\n",
       "      dtype='object')"
      ]
     },
     "execution_count": 7,
     "metadata": {
      "tags": []
     },
     "output_type": "execute_result"
    }
   ],
   "source": [
    "## Get Column Names\n",
    "data.columns"
   ]
  },
  {
   "cell_type": "code",
   "execution_count": 8,
   "metadata": {
    "colab": {
     "base_uri": "https://localhost:8080/",
     "height": 34
    },
    "colab_type": "code",
    "id": "wU3AikcTJVih",
    "outputId": "f2706bfe-0fcc-443a-ff1a-fd14237ba2bf"
   },
   "outputs": [
    {
     "data": {
      "text/plain": [
       "23"
      ]
     },
     "execution_count": 8,
     "metadata": {
      "tags": []
     },
     "output_type": "execute_result"
    }
   ],
   "source": [
    "## Get number of columns\n",
    "len(data.columns)"
   ]
  },
  {
   "cell_type": "code",
   "execution_count": 9,
   "metadata": {
    "colab": {
     "base_uri": "https://localhost:8080/",
     "height": 34
    },
    "colab_type": "code",
    "id": "eTPZTxNHXYEH",
    "outputId": "bcf9ba40-261a-4a7c-b5be-8a8cac209324"
   },
   "outputs": [
    {
     "data": {
      "text/plain": [
       "421.5535570469796"
      ]
     },
     "execution_count": 9,
     "metadata": {
      "tags": []
     },
     "output_type": "execute_result"
    }
   ],
   "source": [
    "## Average Basket\n",
    "data['POS_Sales'].mean()"
   ]
  },
  {
   "cell_type": "code",
   "execution_count": 10,
   "metadata": {
    "colab": {
     "base_uri": "https://localhost:8080/",
     "height": 317
    },
    "colab_type": "code",
    "id": "ScxoEh6E9rCH",
    "outputId": "1cada9d3-19c5-4fed-edce-14f1fcca640a"
   },
   "outputs": [
    {
     "data": {
      "text/html": [
       "<div>\n",
       "<style scoped>\n",
       "    .dataframe tbody tr th:only-of-type {\n",
       "        vertical-align: middle;\n",
       "    }\n",
       "\n",
       "    .dataframe tbody tr th {\n",
       "        vertical-align: top;\n",
       "    }\n",
       "\n",
       "    .dataframe thead th {\n",
       "        text-align: right;\n",
       "    }\n",
       "</style>\n",
       "<table border=\"1\" class=\"dataframe\">\n",
       "  <thead>\n",
       "    <tr style=\"text-align: right;\">\n",
       "      <th></th>\n",
       "      <th>SKU_ID</th>\n",
       "      <th>Transaction_Date_ID</th>\n",
       "      <th>Transaction_Hour_ID</th>\n",
       "      <th>POS_Sales</th>\n",
       "      <th>POS_UnitsSold</th>\n",
       "      <th>Department_ID</th>\n",
       "      <th>Class_ID</th>\n",
       "      <th>SubClass_ID</th>\n",
       "      <th>Product_Weight</th>\n",
       "      <th>Product_Height</th>\n",
       "      <th>Product_Length</th>\n",
       "      <th>Product_Width</th>\n",
       "      <th>Product_Volumn</th>\n",
       "      <th>PRO</th>\n",
       "    </tr>\n",
       "  </thead>\n",
       "  <tbody>\n",
       "    <tr>\n",
       "      <th>count</th>\n",
       "      <td>149.00000</td>\n",
       "      <td>1.490000e+02</td>\n",
       "      <td>149.000000</td>\n",
       "      <td>149.000000</td>\n",
       "      <td>149.000000</td>\n",
       "      <td>149.000000</td>\n",
       "      <td>149.000000</td>\n",
       "      <td>149.000000</td>\n",
       "      <td>149.000000</td>\n",
       "      <td>149.000000</td>\n",
       "      <td>149.000000</td>\n",
       "      <td>149.000000</td>\n",
       "      <td>149.000000</td>\n",
       "      <td>149.000000</td>\n",
       "    </tr>\n",
       "    <tr>\n",
       "      <th>mean</th>\n",
       "      <td>170087.80276</td>\n",
       "      <td>2.014728e+07</td>\n",
       "      <td>130177.040268</td>\n",
       "      <td>421.553557</td>\n",
       "      <td>4.534899</td>\n",
       "      <td>26.456376</td>\n",
       "      <td>2178.187919</td>\n",
       "      <td>11264.973154</td>\n",
       "      <td>9.181208</td>\n",
       "      <td>14.241611</td>\n",
       "      <td>20.416107</td>\n",
       "      <td>32.751678</td>\n",
       "      <td>0.859060</td>\n",
       "      <td>0.684564</td>\n",
       "    </tr>\n",
       "    <tr>\n",
       "      <th>std</th>\n",
       "      <td>44.55978</td>\n",
       "      <td>5.315956e+03</td>\n",
       "      <td>38507.062688</td>\n",
       "      <td>1645.088856</td>\n",
       "      <td>18.989161</td>\n",
       "      <td>8.203891</td>\n",
       "      <td>109.105167</td>\n",
       "      <td>806.930872</td>\n",
       "      <td>23.366369</td>\n",
       "      <td>55.554411</td>\n",
       "      <td>29.779846</td>\n",
       "      <td>161.325418</td>\n",
       "      <td>2.688866</td>\n",
       "      <td>0.466257</td>\n",
       "    </tr>\n",
       "    <tr>\n",
       "      <th>min</th>\n",
       "      <td>170017.23120</td>\n",
       "      <td>2.013051e+07</td>\n",
       "      <td>73238.000000</td>\n",
       "      <td>-4194.000000</td>\n",
       "      <td>-90.000000</td>\n",
       "      <td>11.000000</td>\n",
       "      <td>2004.000000</td>\n",
       "      <td>10026.000000</td>\n",
       "      <td>0.000000</td>\n",
       "      <td>0.000000</td>\n",
       "      <td>0.000000</td>\n",
       "      <td>0.000000</td>\n",
       "      <td>0.000000</td>\n",
       "      <td>0.000000</td>\n",
       "    </tr>\n",
       "    <tr>\n",
       "      <th>25%</th>\n",
       "      <td>170031.55860</td>\n",
       "      <td>2.014113e+07</td>\n",
       "      <td>100321.000000</td>\n",
       "      <td>65.940000</td>\n",
       "      <td>1.000000</td>\n",
       "      <td>23.000000</td>\n",
       "      <td>2081.000000</td>\n",
       "      <td>10537.000000</td>\n",
       "      <td>0.000000</td>\n",
       "      <td>1.000000</td>\n",
       "      <td>2.000000</td>\n",
       "      <td>2.000000</td>\n",
       "      <td>0.000000</td>\n",
       "      <td>0.000000</td>\n",
       "    </tr>\n",
       "    <tr>\n",
       "      <th>50%</th>\n",
       "      <td>170091.86150</td>\n",
       "      <td>2.015041e+07</td>\n",
       "      <td>123047.000000</td>\n",
       "      <td>149.220000</td>\n",
       "      <td>1.000000</td>\n",
       "      <td>27.000000</td>\n",
       "      <td>2173.000000</td>\n",
       "      <td>11175.000000</td>\n",
       "      <td>1.000000</td>\n",
       "      <td>3.000000</td>\n",
       "      <td>7.000000</td>\n",
       "      <td>5.000000</td>\n",
       "      <td>0.000000</td>\n",
       "      <td>1.000000</td>\n",
       "    </tr>\n",
       "    <tr>\n",
       "      <th>75%</th>\n",
       "      <td>170125.79470</td>\n",
       "      <td>2.015070e+07</td>\n",
       "      <td>161237.000000</td>\n",
       "      <td>393.960000</td>\n",
       "      <td>3.000000</td>\n",
       "      <td>28.000000</td>\n",
       "      <td>2258.000000</td>\n",
       "      <td>11937.000000</td>\n",
       "      <td>7.000000</td>\n",
       "      <td>9.000000</td>\n",
       "      <td>28.000000</td>\n",
       "      <td>12.000000</td>\n",
       "      <td>0.000000</td>\n",
       "      <td>1.000000</td>\n",
       "    </tr>\n",
       "    <tr>\n",
       "      <th>max</th>\n",
       "      <td>170161.50290</td>\n",
       "      <td>2.015111e+07</td>\n",
       "      <td>210714.000000</td>\n",
       "      <td>17280.780000</td>\n",
       "      <td>144.000000</td>\n",
       "      <td>59.000000</td>\n",
       "      <td>2414.000000</td>\n",
       "      <td>12698.000000</td>\n",
       "      <td>210.000000</td>\n",
       "      <td>575.000000</td>\n",
       "      <td>151.000000</td>\n",
       "      <td>1625.000000</td>\n",
       "      <td>19.000000</td>\n",
       "      <td>1.000000</td>\n",
       "    </tr>\n",
       "  </tbody>\n",
       "</table>\n",
       "</div>"
      ],
      "text/plain": [
       "             SKU_ID  Transaction_Date_ID  ...  Product_Volumn         PRO\n",
       "count     149.00000         1.490000e+02  ...      149.000000  149.000000\n",
       "mean   170087.80276         2.014728e+07  ...        0.859060    0.684564\n",
       "std        44.55978         5.315956e+03  ...        2.688866    0.466257\n",
       "min    170017.23120         2.013051e+07  ...        0.000000    0.000000\n",
       "25%    170031.55860         2.014113e+07  ...        0.000000    0.000000\n",
       "50%    170091.86150         2.015041e+07  ...        0.000000    1.000000\n",
       "75%    170125.79470         2.015070e+07  ...        0.000000    1.000000\n",
       "max    170161.50290         2.015111e+07  ...       19.000000    1.000000\n",
       "\n",
       "[8 rows x 14 columns]"
      ]
     },
     "execution_count": 10,
     "metadata": {
      "tags": []
     },
     "output_type": "execute_result"
    }
   ],
   "source": [
    "## Summary Statistics of data\n",
    "data.describe()"
   ]
  },
  {
   "cell_type": "code",
   "execution_count": 0,
   "metadata": {
    "colab": {},
    "colab_type": "code",
    "id": "zJbb0je4vpUG"
   },
   "outputs": [],
   "source": [
    "## Summarize data by PRO/Consumer group\n",
    "pro_summary = data.groupby(['PRO']).agg({'POS_Sales':'max'}).reset_index()"
   ]
  },
  {
   "cell_type": "code",
   "execution_count": 12,
   "metadata": {
    "colab": {
     "base_uri": "https://localhost:8080/",
     "height": 111
    },
    "colab_type": "code",
    "id": "LveXuTKnxAeA",
    "outputId": "d479d272-f15f-4c98-9ab5-6fc8de24f8b5"
   },
   "outputs": [
    {
     "data": {
      "text/html": [
       "<div>\n",
       "<style scoped>\n",
       "    .dataframe tbody tr th:only-of-type {\n",
       "        vertical-align: middle;\n",
       "    }\n",
       "\n",
       "    .dataframe tbody tr th {\n",
       "        vertical-align: top;\n",
       "    }\n",
       "\n",
       "    .dataframe thead th {\n",
       "        text-align: right;\n",
       "    }\n",
       "</style>\n",
       "<table border=\"1\" class=\"dataframe\">\n",
       "  <thead>\n",
       "    <tr style=\"text-align: right;\">\n",
       "      <th></th>\n",
       "      <th>PRO</th>\n",
       "      <th>POS_Sales</th>\n",
       "    </tr>\n",
       "  </thead>\n",
       "  <tbody>\n",
       "    <tr>\n",
       "      <th>0</th>\n",
       "      <td>0</td>\n",
       "      <td>17280.78</td>\n",
       "    </tr>\n",
       "    <tr>\n",
       "      <th>1</th>\n",
       "      <td>1</td>\n",
       "      <td>5954.76</td>\n",
       "    </tr>\n",
       "  </tbody>\n",
       "</table>\n",
       "</div>"
      ],
      "text/plain": [
       "   PRO  POS_Sales\n",
       "0    0   17280.78\n",
       "1    1    5954.76"
      ]
     },
     "execution_count": 12,
     "metadata": {
      "tags": []
     },
     "output_type": "execute_result"
    }
   ],
   "source": [
    "pro_summary"
   ]
  },
  {
   "cell_type": "code",
   "execution_count": 13,
   "metadata": {
    "colab": {
     "base_uri": "https://localhost:8080/",
     "height": 293
    },
    "colab_type": "code",
    "id": "2cte0HkncyD8",
    "outputId": "1188c7d2-a4c6-4193-cbac-108206cb2af6"
   },
   "outputs": [
    {
     "data": {
      "text/plain": [
       "<matplotlib.axes._subplots.AxesSubplot at 0x7f9a5b27a390>"
      ]
     },
     "execution_count": 13,
     "metadata": {
      "tags": []
     },
     "output_type": "execute_result"
    },
    {
     "data": {
      "image/png": "[encoded data removed]",
      "text/plain": [
       "<Figure size 432x288 with 1 Axes>"
      ]
     },
     "metadata": {
      "tags": []
     },
     "output_type": "display_data"
    }
   ],
   "source": [
    "## Plot PRO vs Consumer POS_Sales\n",
    "pro_summary.plot(x = 'PRO', y ='POS_Sales', kind = 'bar')"
   ]
  },
  {
   "cell_type": "code",
   "execution_count": 0,
   "metadata": {
    "colab": {},
    "colab_type": "code",
    "id": "VKxq26A-i3ip"
   },
   "outputs": [],
   "source": [
    "## Pull out consumer (non-pro data)\n",
    "consumers = data[data['PRO'] == 0]"
   ]
  },
  {
   "cell_type": "code",
   "execution_count": 15,
   "metadata": {
    "colab": {
     "base_uri": "https://localhost:8080/",
     "height": 170
    },
    "colab_type": "code",
    "id": "Von8dYz2jGf_",
    "outputId": "e8e608e2-4f78-46c2-812c-60c99079bf77"
   },
   "outputs": [
    {
     "data": {
      "text/plain": [
       "count       47.000000\n",
       "mean       792.218298\n",
       "std       2553.547945\n",
       "min       -479.100000\n",
       "25%         71.850000\n",
       "50%        179.880000\n",
       "75%        548.640000\n",
       "max      17280.780000\n",
       "Name: POS_Sales, dtype: float64"
      ]
     },
     "execution_count": 15,
     "metadata": {
      "tags": []
     },
     "output_type": "execute_result"
    }
   ],
   "source": [
    "## Summary Statistics of consumer POS_Sales\n",
    "consumers['POS_Sales'].describe()"
   ]
  },
  {
   "cell_type": "code",
   "execution_count": 16,
   "metadata": {
    "colab": {
     "base_uri": "https://localhost:8080/",
     "height": 333
    },
    "colab_type": "code",
    "id": "kHFtAO7jjJp_",
    "outputId": "d0fd39a7-a52f-4259-d830-1b4ec86a8111"
   },
   "outputs": [
    {
     "data": {
      "text/plain": [
       "(array([42.,  3.,  1.,  0.,  0.,  0.,  0.,  0.,  0.,  1.]),\n",
       " array([ -479.1  ,  1296.888,  3072.876,  4848.864,  6624.852,  8400.84 ,\n",
       "        10176.828, 11952.816, 13728.804, 15504.792, 17280.78 ]),\n",
       " <a list of 10 Patch objects>)"
      ]
     },
     "execution_count": 16,
     "metadata": {
      "tags": []
     },
     "output_type": "execute_result"
    },
    {
     "data": {
      "image/png": "[encoded data removed]",
      "text/plain": [
       "<Figure size 432x288 with 1 Axes>"
      ]
     },
     "metadata": {
      "tags": []
     },
     "output_type": "display_data"
    }
   ],
   "source": [
    "## Plot Histogram of Consumer POS_Sales\n",
    "plt.hist(consumers['POS_Sales'])"
   ]
  },
  {
   "cell_type": "code",
   "execution_count": 17,
   "metadata": {
    "colab": {
     "base_uri": "https://localhost:8080/",
     "height": 34
    },
    "colab_type": "code",
    "id": "HZgEfiVNlotv",
    "outputId": "75d775c4-39d5-455e-8af0-a041ca35bff3"
   },
   "outputs": [
    {
     "data": {
      "text/plain": [
       "True"
      ]
     },
     "execution_count": 17,
     "metadata": {
      "tags": []
     },
     "output_type": "execute_result"
    }
   ],
   "source": [
    "17280 > (2* 2553.55)"
   ]
  },
  {
   "cell_type": "code",
   "execution_count": 0,
   "metadata": {
    "colab": {},
    "colab_type": "code",
    "id": "Ixrj4P6q1O_u"
   },
   "outputs": [],
   "source": []
  },
  {
   "cell_type": "code",
   "execution_count": 0,
   "metadata": {
    "colab": {},
    "colab_type": "code",
    "id": "mRkz6cV3jU9J"
   },
   "outputs": [],
   "source": [
    "## Pull out PRO data\n",
    "pros = data[data['PRO'] == 1]"
   ]
  },
  {
   "cell_type": "code",
   "execution_count": 19,
   "metadata": {
    "colab": {
     "base_uri": "https://localhost:8080/",
     "height": 170
    },
    "colab_type": "code",
    "id": "CeQHmc5AkWvx",
    "outputId": "eff64b9c-b52a-476a-e2fa-91d0d909cc58"
   },
   "outputs": [
    {
     "data": {
      "text/plain": [
       "count     102.000000\n",
       "mean      250.757059\n",
       "std       950.008401\n",
       "min     -4194.000000\n",
       "25%        62.250000\n",
       "50%       143.940000\n",
       "75%       360.000000\n",
       "max      5954.760000\n",
       "Name: POS_Sales, dtype: float64"
      ]
     },
     "execution_count": 19,
     "metadata": {
      "tags": []
     },
     "output_type": "execute_result"
    }
   ],
   "source": [
    "## Summary Statistics \n",
    "pros['POS_Sales'].describe()"
   ]
  },
  {
   "cell_type": "code",
   "execution_count": 20,
   "metadata": {
    "colab": {
     "base_uri": "https://localhost:8080/",
     "height": 333
    },
    "colab_type": "code",
    "id": "YA7OeIFMk36P",
    "outputId": "6bdff9f1-e169-446e-ce86-d7df740ade14"
   },
   "outputs": [
    {
     "data": {
      "text/plain": [
       "(array([ 2.,  0.,  1.,  2., 88.,  6.,  2.,  0.,  0.,  1.]),\n",
       " array([-4194.   , -3179.124, -2164.248, -1149.372,  -134.496,   880.38 ,\n",
       "         1895.256,  2910.132,  3925.008,  4939.884,  5954.76 ]),\n",
       " <a list of 10 Patch objects>)"
      ]
     },
     "execution_count": 20,
     "metadata": {
      "tags": []
     },
     "output_type": "execute_result"
    },
    {
     "data": {
      "image/png": "[encoded data removed]",
      "text/plain": [
       "<Figure size 432x288 with 1 Axes>"
      ]
     },
     "metadata": {
      "tags": []
     },
     "output_type": "display_data"
    }
   ],
   "source": [
    "## Plot histogram of Pro POS_Sales\n",
    "plt.hist(pros['POS_Sales'])"
   ]
  },
  {
   "cell_type": "code",
   "execution_count": 21,
   "metadata": {
    "colab": {
     "base_uri": "https://localhost:8080/",
     "height": 34
    },
    "colab_type": "code",
    "id": "PLSuGDQR1uuh",
    "outputId": "21bc3700-6e0c-4aab-8bbf-414020f2e6f9"
   },
   "outputs": [
    {
     "data": {
      "text/plain": [
       "1900"
      ]
     },
     "execution_count": 21,
     "metadata": {
      "tags": []
     },
     "output_type": "execute_result"
    }
   ],
   "source": [
    "2*950"
   ]
  },
  {
   "cell_type": "code",
   "execution_count": 22,
   "metadata": {
    "colab": {
     "base_uri": "https://localhost:8080/",
     "height": 333
    },
    "colab_type": "code",
    "id": "BILzAEAw2Xsg",
    "outputId": "fc9afa27-e636-4b5c-e2c9-0555d904631a"
   },
   "outputs": [
    {
     "data": {
      "text/plain": [
       "(array([ 2., 58., 83.,  4.,  1.,  0.,  0.,  0.,  0.,  1.]),\n",
       " array([-4194.   , -2046.522,   100.956,  2248.434,  4395.912,  6543.39 ,\n",
       "         8690.868, 10838.346, 12985.824, 15133.302, 17280.78 ]),\n",
       " <a list of 10 Patch objects>)"
      ]
     },
     "execution_count": 22,
     "metadata": {
      "tags": []
     },
     "output_type": "execute_result"
    },
    {
     "data": {
      "image/png": "[encoded data removed]",
      "text/plain": [
       "<Figure size 432x288 with 1 Axes>"
      ]
     },
     "metadata": {
      "tags": []
     },
     "output_type": "display_data"
    }
   ],
   "source": [
    "## plot histogram of all data POS_Sales\n",
    "plt.hist(data['POS_Sales'])"
   ]
  },
  {
   "cell_type": "code",
   "execution_count": 0,
   "metadata": {
    "colab": {},
    "colab_type": "code",
    "id": "VsEhnTr5AS1f"
   },
   "outputs": [],
   "source": [
    "## Remove data points with over 17000 in POS_Sales\n",
    "data2 = data[data['POS_Sales']< 17000]"
   ]
  },
  {
   "cell_type": "code",
   "execution_count": 24,
   "metadata": {
    "colab": {
     "base_uri": "https://localhost:8080/",
     "height": 111
    },
    "colab_type": "code",
    "id": "9lDk2-o71z7r",
    "outputId": "bffdb0b3-be18-40b5-fa22-13df0511a50a"
   },
   "outputs": [
    {
     "data": {
      "text/html": [
       "<div>\n",
       "<style scoped>\n",
       "    .dataframe tbody tr th:only-of-type {\n",
       "        vertical-align: middle;\n",
       "    }\n",
       "\n",
       "    .dataframe tbody tr th {\n",
       "        vertical-align: top;\n",
       "    }\n",
       "\n",
       "    .dataframe thead th {\n",
       "        text-align: right;\n",
       "    }\n",
       "</style>\n",
       "<table border=\"1\" class=\"dataframe\">\n",
       "  <thead>\n",
       "    <tr style=\"text-align: right;\">\n",
       "      <th></th>\n",
       "      <th>PRO</th>\n",
       "      <th>POS_Sales</th>\n",
       "    </tr>\n",
       "  </thead>\n",
       "  <tbody>\n",
       "    <tr>\n",
       "      <th>0</th>\n",
       "      <td>0</td>\n",
       "      <td>433.771304</td>\n",
       "    </tr>\n",
       "    <tr>\n",
       "      <th>1</th>\n",
       "      <td>1</td>\n",
       "      <td>250.757059</td>\n",
       "    </tr>\n",
       "  </tbody>\n",
       "</table>\n",
       "</div>"
      ],
      "text/plain": [
       "   PRO   POS_Sales\n",
       "0    0  433.771304\n",
       "1    1  250.757059"
      ]
     },
     "execution_count": 24,
     "metadata": {
      "tags": []
     },
     "output_type": "execute_result"
    }
   ],
   "source": [
    "data2.groupby(['PRO']).agg({'POS_Sales' : 'mean'}).reset_index()"
   ]
  },
  {
   "cell_type": "code",
   "execution_count": 25,
   "metadata": {
    "colab": {
     "base_uri": "https://localhost:8080/",
     "height": 333
    },
    "colab_type": "code",
    "id": "7sKuffSIHI3e",
    "outputId": "f1b6db8f-a1e8-4568-eb5c-1edb00a3b1b1"
   },
   "outputs": [
    {
     "data": {
      "text/plain": [
       "(array([  2.,   0.,   1.,   3., 127.,   9.,   4.,   1.,   0.,   1.]),\n",
       " array([-4194.   , -3179.124, -2164.248, -1149.372,  -134.496,   880.38 ,\n",
       "         1895.256,  2910.132,  3925.008,  4939.884,  5954.76 ]),\n",
       " <a list of 10 Patch objects>)"
      ]
     },
     "execution_count": 25,
     "metadata": {
      "tags": []
     },
     "output_type": "execute_result"
    },
    {
     "data": {
      "image/png": "[encoded data removed]",
      "text/plain": [
       "<Figure size 432x288 with 1 Axes>"
      ]
     },
     "metadata": {
      "tags": []
     },
     "output_type": "display_data"
    }
   ],
   "source": [
    "plt.hist(data2['POS_Sales'])"
   ]
  },
  {
   "cell_type": "code",
   "execution_count": 26,
   "metadata": {
    "colab": {
     "base_uri": "https://localhost:8080/",
     "height": 170
    },
    "colab_type": "code",
    "id": "cmnjX8Lk2dan",
    "outputId": "049a12ff-8da4-4a03-d3a4-ce43ce153857"
   },
   "outputs": [
    {
     "data": {
      "text/plain": [
       "count     148.000000\n",
       "mean      307.639865\n",
       "std       882.100747\n",
       "min     -4194.000000\n",
       "25%        64.710000\n",
       "50%       146.610000\n",
       "75%       390.855000\n",
       "max      5954.760000\n",
       "Name: POS_Sales, dtype: float64"
      ]
     },
     "execution_count": 26,
     "metadata": {
      "tags": []
     },
     "output_type": "execute_result"
    }
   ],
   "source": [
    "data2.POS_Sales.describe()"
   ]
  },
  {
   "cell_type": "code",
   "execution_count": 27,
   "metadata": {
    "colab": {
     "base_uri": "https://localhost:8080/",
     "height": 309
    },
    "colab_type": "code",
    "id": "FqivPgNc2p33",
    "outputId": "731218f7-5c2d-4b0a-a3f8-dfc82d95b5ac"
   },
   "outputs": [
    {
     "data": {
      "text/html": [
       "<div>\n",
       "<style scoped>\n",
       "    .dataframe tbody tr th:only-of-type {\n",
       "        vertical-align: middle;\n",
       "    }\n",
       "\n",
       "    .dataframe tbody tr th {\n",
       "        vertical-align: top;\n",
       "    }\n",
       "\n",
       "    .dataframe thead th {\n",
       "        text-align: right;\n",
       "    }\n",
       "</style>\n",
       "<table border=\"1\" class=\"dataframe\">\n",
       "  <thead>\n",
       "    <tr style=\"text-align: right;\">\n",
       "      <th></th>\n",
       "      <th>Hash_Trans_ID</th>\n",
       "      <th>SKU_ID</th>\n",
       "      <th>Transaction_Date_ID</th>\n",
       "      <th>Transaction_Hour_ID</th>\n",
       "      <th>Online_Order_Type</th>\n",
       "      <th>Online_Order_Type_Desc</th>\n",
       "      <th>Transaction_Type</th>\n",
       "      <th>Transaction_Sales_Type</th>\n",
       "      <th>POS_Sales</th>\n",
       "      <th>POS_UnitsSold</th>\n",
       "      <th>Department_ID</th>\n",
       "      <th>Class_ID</th>\n",
       "      <th>SubClass_ID</th>\n",
       "      <th>SubClass_Desc</th>\n",
       "      <th>Product_Weight</th>\n",
       "      <th>Product_Weight_Dimension</th>\n",
       "      <th>Product_Height</th>\n",
       "      <th>Product_Length</th>\n",
       "      <th>Product_Width</th>\n",
       "      <th>Product_Unit_Dimension</th>\n",
       "      <th>Product_Volumn</th>\n",
       "      <th>Product_Volumn_Unit</th>\n",
       "      <th>PRO</th>\n",
       "    </tr>\n",
       "  </thead>\n",
       "  <tbody>\n",
       "    <tr>\n",
       "      <th>0</th>\n",
       "      <td>d3f687e772e36967aec72e249a5a30017f4f433c</td>\n",
       "      <td>170085.4524</td>\n",
       "      <td>20140114</td>\n",
       "      <td>161945</td>\n",
       "      <td>IN-STORE</td>\n",
       "      <td>IN-STORE</td>\n",
       "      <td>Commercial Line Sale</td>\n",
       "      <td>Sales</td>\n",
       "      <td>1194.00</td>\n",
       "      <td>1.0</td>\n",
       "      <td>25</td>\n",
       "      <td>2121</td>\n",
       "      <td>10749</td>\n",
       "      <td>25XX0807 MITER SAWS</td>\n",
       "      <td>38</td>\n",
       "      <td>LB</td>\n",
       "      <td>18</td>\n",
       "      <td>25</td>\n",
       "      <td>20</td>\n",
       "      <td>IN</td>\n",
       "      <td>4</td>\n",
       "      <td>FT3</td>\n",
       "      <td>0</td>\n",
       "    </tr>\n",
       "    <tr>\n",
       "      <th>1</th>\n",
       "      <td>aab9ab77c8169454a719414325702fd15ebfeba0</td>\n",
       "      <td>170084.1813</td>\n",
       "      <td>20150423</td>\n",
       "      <td>81833</td>\n",
       "      <td>IN-STORE</td>\n",
       "      <td>IN-STORE</td>\n",
       "      <td>Front line - Sales</td>\n",
       "      <td>Sales</td>\n",
       "      <td>474.96</td>\n",
       "      <td>4.0</td>\n",
       "      <td>23</td>\n",
       "      <td>2057</td>\n",
       "      <td>10350</td>\n",
       "      <td>23XX1105 LAMINATE AC</td>\n",
       "      <td>2</td>\n",
       "      <td>LB</td>\n",
       "      <td>3</td>\n",
       "      <td>3</td>\n",
       "      <td>12</td>\n",
       "      <td>IN</td>\n",
       "      <td>0</td>\n",
       "      <td>FT3</td>\n",
       "      <td>1</td>\n",
       "    </tr>\n",
       "    <tr>\n",
       "      <th>2</th>\n",
       "      <td>3230f7850b99cd98b73a319f4cfaf266b98151b0</td>\n",
       "      <td>170091.8901</td>\n",
       "      <td>20150508</td>\n",
       "      <td>93708</td>\n",
       "      <td>IN-STORE</td>\n",
       "      <td>IN-STORE</td>\n",
       "      <td>Pro Desk - Refund</td>\n",
       "      <td>Special Order Sales</td>\n",
       "      <td>1110.96</td>\n",
       "      <td>3.0</td>\n",
       "      <td>23</td>\n",
       "      <td>2050</td>\n",
       "      <td>12677</td>\n",
       "      <td>23XX0412 GRIPSTRIP T</td>\n",
       "      <td>37</td>\n",
       "      <td>LB</td>\n",
       "      <td>14</td>\n",
       "      <td>2</td>\n",
       "      <td>38</td>\n",
       "      <td>IN</td>\n",
       "      <td>0</td>\n",
       "      <td>FT3</td>\n",
       "      <td>1</td>\n",
       "    </tr>\n",
       "    <tr>\n",
       "      <th>3</th>\n",
       "      <td>f364a11c471d66534cd04244c827a7f4393f6259</td>\n",
       "      <td>170113.4248</td>\n",
       "      <td>20150511</td>\n",
       "      <td>93132</td>\n",
       "      <td>IN-STORE</td>\n",
       "      <td>IN-STORE</td>\n",
       "      <td>Garden Sales</td>\n",
       "      <td>Sales</td>\n",
       "      <td>59.94</td>\n",
       "      <td>1.0</td>\n",
       "      <td>28</td>\n",
       "      <td>2204</td>\n",
       "      <td>11322</td>\n",
       "      <td>28XX0310 AMENDMENTS/</td>\n",
       "      <td>22</td>\n",
       "      <td>LB</td>\n",
       "      <td>9</td>\n",
       "      <td>12</td>\n",
       "      <td>15</td>\n",
       "      <td>IN</td>\n",
       "      <td>1</td>\n",
       "      <td>FT3</td>\n",
       "      <td>0</td>\n",
       "    </tr>\n",
       "    <tr>\n",
       "      <th>4</th>\n",
       "      <td>f364a11c471d66534cd04244c827a7f4393f6259</td>\n",
       "      <td>170028.8084</td>\n",
       "      <td>20150511</td>\n",
       "      <td>93132</td>\n",
       "      <td>IN-STORE</td>\n",
       "      <td>IN-STORE</td>\n",
       "      <td>Garden Sales</td>\n",
       "      <td>Sales</td>\n",
       "      <td>71.94</td>\n",
       "      <td>1.0</td>\n",
       "      <td>28</td>\n",
       "      <td>2204</td>\n",
       "      <td>11322</td>\n",
       "      <td>28XX0310 AMENDMENTS/</td>\n",
       "      <td>0</td>\n",
       "      <td>LB</td>\n",
       "      <td>0</td>\n",
       "      <td>0</td>\n",
       "      <td>0</td>\n",
       "      <td>IN</td>\n",
       "      <td>0</td>\n",
       "      <td>FT3</td>\n",
       "      <td>0</td>\n",
       "    </tr>\n",
       "  </tbody>\n",
       "</table>\n",
       "</div>"
      ],
      "text/plain": [
       "                              Hash_Trans_ID  ...  PRO\n",
       "0  d3f687e772e36967aec72e249a5a30017f4f433c  ...    0\n",
       "1  aab9ab77c8169454a719414325702fd15ebfeba0  ...    1\n",
       "2  3230f7850b99cd98b73a319f4cfaf266b98151b0  ...    1\n",
       "3  f364a11c471d66534cd04244c827a7f4393f6259  ...    0\n",
       "4  f364a11c471d66534cd04244c827a7f4393f6259  ...    0\n",
       "\n",
       "[5 rows x 23 columns]"
      ]
     },
     "execution_count": 27,
     "metadata": {
      "tags": []
     },
     "output_type": "execute_result"
    }
   ],
   "source": [
    "data.head()"
   ]
  },
  {
   "cell_type": "code",
   "execution_count": 0,
   "metadata": {
    "colab": {},
    "colab_type": "code",
    "id": "FWFgt3Z4Oiph"
   },
   "outputs": [],
   "source": [
    "## Pivot data so that each Department_ID is a column and the sum of POS_Sales are the values for each Hash_Trans_ID"
   ]
  },
  {
   "cell_type": "code",
   "execution_count": 0,
   "metadata": {
    "colab": {},
    "colab_type": "code",
    "id": "mB5mhvW8J-3r"
   },
   "outputs": [],
   "source": [
    "## Group by Hash_Trans_ID and Department_ID, aggregate on POS_Sales and get sum\n",
    "data_gb = data.groupby(['Hash_Trans_ID', 'Department_ID']).agg({'POS_Sales': 'sum'}).reset_index()"
   ]
  },
  {
   "cell_type": "code",
   "execution_count": 29,
   "metadata": {
    "colab": {
     "base_uri": "https://localhost:8080/",
     "height": 204
    },
    "colab_type": "code",
    "id": "c92VZcXlMfmL",
    "outputId": "90b54cf5-880d-4ca1-f662-0a451cedb334"
   },
   "outputs": [
    {
     "data": {
      "text/html": [
       "<div>\n",
       "<style scoped>\n",
       "    .dataframe tbody tr th:only-of-type {\n",
       "        vertical-align: middle;\n",
       "    }\n",
       "\n",
       "    .dataframe tbody tr th {\n",
       "        vertical-align: top;\n",
       "    }\n",
       "\n",
       "    .dataframe thead th {\n",
       "        text-align: right;\n",
       "    }\n",
       "</style>\n",
       "<table border=\"1\" class=\"dataframe\">\n",
       "  <thead>\n",
       "    <tr style=\"text-align: right;\">\n",
       "      <th></th>\n",
       "      <th>Hash_Trans_ID</th>\n",
       "      <th>Department_ID</th>\n",
       "      <th>POS_Sales</th>\n",
       "    </tr>\n",
       "  </thead>\n",
       "  <tbody>\n",
       "    <tr>\n",
       "      <th>0</th>\n",
       "      <td>019c0333a8cf3b36a809501efa4552c11d1d5428</td>\n",
       "      <td>11</td>\n",
       "      <td>360.00</td>\n",
       "    </tr>\n",
       "    <tr>\n",
       "      <th>1</th>\n",
       "      <td>019c0333a8cf3b36a809501efa4552c11d1d5428</td>\n",
       "      <td>22</td>\n",
       "      <td>870.66</td>\n",
       "    </tr>\n",
       "    <tr>\n",
       "      <th>2</th>\n",
       "      <td>01d1b29d74ce8ef348df028ec12431ba12d50714</td>\n",
       "      <td>27</td>\n",
       "      <td>-1747.80</td>\n",
       "    </tr>\n",
       "    <tr>\n",
       "      <th>3</th>\n",
       "      <td>06ce26aa191f277c3c52b3d2503d150a645e1ec3</td>\n",
       "      <td>59</td>\n",
       "      <td>149.88</td>\n",
       "    </tr>\n",
       "    <tr>\n",
       "      <th>4</th>\n",
       "      <td>07f6b5d76a9b4b20bedd81f9412cbe58bc27228e</td>\n",
       "      <td>22</td>\n",
       "      <td>2241.90</td>\n",
       "    </tr>\n",
       "  </tbody>\n",
       "</table>\n",
       "</div>"
      ],
      "text/plain": [
       "                              Hash_Trans_ID  Department_ID  POS_Sales\n",
       "0  019c0333a8cf3b36a809501efa4552c11d1d5428             11     360.00\n",
       "1  019c0333a8cf3b36a809501efa4552c11d1d5428             22     870.66\n",
       "2  01d1b29d74ce8ef348df028ec12431ba12d50714             27   -1747.80\n",
       "3  06ce26aa191f277c3c52b3d2503d150a645e1ec3             59     149.88\n",
       "4  07f6b5d76a9b4b20bedd81f9412cbe58bc27228e             22    2241.90"
      ]
     },
     "execution_count": 29,
     "metadata": {
      "tags": []
     },
     "output_type": "execute_result"
    }
   ],
   "source": [
    "data_gb.head()"
   ]
  },
  {
   "cell_type": "code",
   "execution_count": 0,
   "metadata": {
    "colab": {},
    "colab_type": "code",
    "id": "34oGfFclMhZo"
   },
   "outputs": [],
   "source": [
    "## Pivot data\n",
    "data_gb_pv = data_gb.pivot(index = 'Hash_Trans_ID', columns = 'Department_ID', values = 'POS_Sales').reset_index().fillna(0)"
   ]
  },
  {
   "cell_type": "code",
   "execution_count": 35,
   "metadata": {
    "colab": {
     "base_uri": "https://localhost:8080/",
     "height": 204
    },
    "colab_type": "code",
    "id": "BKIOMjYMNLox",
    "outputId": "9aef336c-914c-42bd-9823-73837260eab9"
   },
   "outputs": [
    {
     "data": {
      "text/html": [
       "<div>\n",
       "<style scoped>\n",
       "    .dataframe tbody tr th:only-of-type {\n",
       "        vertical-align: middle;\n",
       "    }\n",
       "\n",
       "    .dataframe tbody tr th {\n",
       "        vertical-align: top;\n",
       "    }\n",
       "\n",
       "    .dataframe thead th {\n",
       "        text-align: right;\n",
       "    }\n",
       "</style>\n",
       "<table border=\"1\" class=\"dataframe\">\n",
       "  <thead>\n",
       "    <tr style=\"text-align: right;\">\n",
       "      <th>Department_ID</th>\n",
       "      <th>Hash_Trans_ID</th>\n",
       "      <th>11</th>\n",
       "      <th>16</th>\n",
       "      <th>21</th>\n",
       "      <th>22</th>\n",
       "      <th>23</th>\n",
       "      <th>24</th>\n",
       "      <th>25</th>\n",
       "      <th>27</th>\n",
       "      <th>28</th>\n",
       "      <th>29</th>\n",
       "      <th>30</th>\n",
       "      <th>59</th>\n",
       "    </tr>\n",
       "  </thead>\n",
       "  <tbody>\n",
       "    <tr>\n",
       "      <th>0</th>\n",
       "      <td>019c0333a8cf3b36a809501efa4552c11d1d5428</td>\n",
       "      <td>360.0</td>\n",
       "      <td>0.0</td>\n",
       "      <td>0.0</td>\n",
       "      <td>870.66</td>\n",
       "      <td>0.0</td>\n",
       "      <td>0.00</td>\n",
       "      <td>0.0</td>\n",
       "      <td>0.0</td>\n",
       "      <td>0.0</td>\n",
       "      <td>0.0</td>\n",
       "      <td>0.0</td>\n",
       "      <td>0.00</td>\n",
       "    </tr>\n",
       "    <tr>\n",
       "      <th>1</th>\n",
       "      <td>01d1b29d74ce8ef348df028ec12431ba12d50714</td>\n",
       "      <td>0.0</td>\n",
       "      <td>0.0</td>\n",
       "      <td>0.0</td>\n",
       "      <td>0.00</td>\n",
       "      <td>0.0</td>\n",
       "      <td>0.00</td>\n",
       "      <td>0.0</td>\n",
       "      <td>-1747.8</td>\n",
       "      <td>0.0</td>\n",
       "      <td>0.0</td>\n",
       "      <td>0.0</td>\n",
       "      <td>0.00</td>\n",
       "    </tr>\n",
       "    <tr>\n",
       "      <th>2</th>\n",
       "      <td>06ce26aa191f277c3c52b3d2503d150a645e1ec3</td>\n",
       "      <td>0.0</td>\n",
       "      <td>0.0</td>\n",
       "      <td>0.0</td>\n",
       "      <td>0.00</td>\n",
       "      <td>0.0</td>\n",
       "      <td>0.00</td>\n",
       "      <td>0.0</td>\n",
       "      <td>0.0</td>\n",
       "      <td>0.0</td>\n",
       "      <td>0.0</td>\n",
       "      <td>0.0</td>\n",
       "      <td>149.88</td>\n",
       "    </tr>\n",
       "    <tr>\n",
       "      <th>3</th>\n",
       "      <td>07f6b5d76a9b4b20bedd81f9412cbe58bc27228e</td>\n",
       "      <td>0.0</td>\n",
       "      <td>0.0</td>\n",
       "      <td>0.0</td>\n",
       "      <td>2241.90</td>\n",
       "      <td>0.0</td>\n",
       "      <td>113.76</td>\n",
       "      <td>0.0</td>\n",
       "      <td>0.0</td>\n",
       "      <td>0.0</td>\n",
       "      <td>0.0</td>\n",
       "      <td>0.0</td>\n",
       "      <td>0.00</td>\n",
       "    </tr>\n",
       "    <tr>\n",
       "      <th>4</th>\n",
       "      <td>08e2ea0e7fe48d534fafd1bb433afc6938839129</td>\n",
       "      <td>0.0</td>\n",
       "      <td>0.0</td>\n",
       "      <td>0.0</td>\n",
       "      <td>88.56</td>\n",
       "      <td>0.0</td>\n",
       "      <td>0.00</td>\n",
       "      <td>0.0</td>\n",
       "      <td>0.0</td>\n",
       "      <td>0.0</td>\n",
       "      <td>0.0</td>\n",
       "      <td>0.0</td>\n",
       "      <td>0.00</td>\n",
       "    </tr>\n",
       "  </tbody>\n",
       "</table>\n",
       "</div>"
      ],
      "text/plain": [
       "Department_ID                             Hash_Trans_ID     11  ...   30      59\n",
       "0              019c0333a8cf3b36a809501efa4552c11d1d5428  360.0  ...  0.0    0.00\n",
       "1              01d1b29d74ce8ef348df028ec12431ba12d50714    0.0  ...  0.0    0.00\n",
       "2              06ce26aa191f277c3c52b3d2503d150a645e1ec3    0.0  ...  0.0  149.88\n",
       "3              07f6b5d76a9b4b20bedd81f9412cbe58bc27228e    0.0  ...  0.0    0.00\n",
       "4              08e2ea0e7fe48d534fafd1bb433afc6938839129    0.0  ...  0.0    0.00\n",
       "\n",
       "[5 rows x 13 columns]"
      ]
     },
     "execution_count": 35,
     "metadata": {
      "tags": []
     },
     "output_type": "execute_result"
    }
   ],
   "source": [
    "data_gb_pv.head()"
   ]
  },
  {
   "cell_type": "code",
   "execution_count": 0,
   "metadata": {
    "colab": {},
    "colab_type": "code",
    "id": "GXQ0f8_eNNDZ"
   },
   "outputs": [],
   "source": [
    "## Join pivot back to original data set\n",
    "data3 = pd.merge(data_gb_pv, data, on = 'Hash_Trans_ID')"
   ]
  },
  {
   "cell_type": "code",
   "execution_count": 40,
   "metadata": {
    "colab": {
     "base_uri": "https://localhost:8080/",
     "height": 309
    },
    "colab_type": "code",
    "id": "S5szSZWxNcMR",
    "outputId": "95eb36da-1d59-41d0-d652-6596201ba10f"
   },
   "outputs": [
    {
     "data": {
      "text/html": [
       "<div>\n",
       "<style scoped>\n",
       "    .dataframe tbody tr th:only-of-type {\n",
       "        vertical-align: middle;\n",
       "    }\n",
       "\n",
       "    .dataframe tbody tr th {\n",
       "        vertical-align: top;\n",
       "    }\n",
       "\n",
       "    .dataframe thead th {\n",
       "        text-align: right;\n",
       "    }\n",
       "</style>\n",
       "<table border=\"1\" class=\"dataframe\">\n",
       "  <thead>\n",
       "    <tr style=\"text-align: right;\">\n",
       "      <th></th>\n",
       "      <th>Hash_Trans_ID</th>\n",
       "      <th>11</th>\n",
       "      <th>16</th>\n",
       "      <th>21</th>\n",
       "      <th>22</th>\n",
       "      <th>23</th>\n",
       "      <th>24</th>\n",
       "      <th>25</th>\n",
       "      <th>27</th>\n",
       "      <th>28</th>\n",
       "      <th>29</th>\n",
       "      <th>30</th>\n",
       "      <th>59</th>\n",
       "      <th>SKU_ID</th>\n",
       "      <th>Transaction_Date_ID</th>\n",
       "      <th>Transaction_Hour_ID</th>\n",
       "      <th>Online_Order_Type</th>\n",
       "      <th>Online_Order_Type_Desc</th>\n",
       "      <th>Transaction_Type</th>\n",
       "      <th>Transaction_Sales_Type</th>\n",
       "      <th>POS_Sales</th>\n",
       "      <th>POS_UnitsSold</th>\n",
       "      <th>Department_ID</th>\n",
       "      <th>Class_ID</th>\n",
       "      <th>SubClass_ID</th>\n",
       "      <th>SubClass_Desc</th>\n",
       "      <th>Product_Weight</th>\n",
       "      <th>Product_Weight_Dimension</th>\n",
       "      <th>Product_Height</th>\n",
       "      <th>Product_Length</th>\n",
       "      <th>Product_Width</th>\n",
       "      <th>Product_Unit_Dimension</th>\n",
       "      <th>Product_Volumn</th>\n",
       "      <th>Product_Volumn_Unit</th>\n",
       "      <th>PRO</th>\n",
       "    </tr>\n",
       "  </thead>\n",
       "  <tbody>\n",
       "    <tr>\n",
       "      <th>0</th>\n",
       "      <td>019c0333a8cf3b36a809501efa4552c11d1d5428</td>\n",
       "      <td>360.0</td>\n",
       "      <td>0.0</td>\n",
       "      <td>0.0</td>\n",
       "      <td>870.66</td>\n",
       "      <td>0.0</td>\n",
       "      <td>0.0</td>\n",
       "      <td>0.0</td>\n",
       "      <td>0.0</td>\n",
       "      <td>0.0</td>\n",
       "      <td>0.0</td>\n",
       "      <td>0.0</td>\n",
       "      <td>0.00</td>\n",
       "      <td>170025.9272</td>\n",
       "      <td>20151007</td>\n",
       "      <td>172111</td>\n",
       "      <td>IN-STORE</td>\n",
       "      <td>IN-STORE</td>\n",
       "      <td>Pro Desk - Refund</td>\n",
       "      <td>Special Order Sales</td>\n",
       "      <td>241.92</td>\n",
       "      <td>144.0</td>\n",
       "      <td>22</td>\n",
       "      <td>2035</td>\n",
       "      <td>10201</td>\n",
       "      <td>22XX1404 BUILDERS HA</td>\n",
       "      <td>0</td>\n",
       "      <td>LB</td>\n",
       "      <td>3</td>\n",
       "      <td>2</td>\n",
       "      <td>1</td>\n",
       "      <td>IN</td>\n",
       "      <td>0</td>\n",
       "      <td>FT3</td>\n",
       "      <td>1</td>\n",
       "    </tr>\n",
       "    <tr>\n",
       "      <th>1</th>\n",
       "      <td>019c0333a8cf3b36a809501efa4552c11d1d5428</td>\n",
       "      <td>360.0</td>\n",
       "      <td>0.0</td>\n",
       "      <td>0.0</td>\n",
       "      <td>870.66</td>\n",
       "      <td>0.0</td>\n",
       "      <td>0.0</td>\n",
       "      <td>0.0</td>\n",
       "      <td>0.0</td>\n",
       "      <td>0.0</td>\n",
       "      <td>0.0</td>\n",
       "      <td>0.0</td>\n",
       "      <td>0.00</td>\n",
       "      <td>170087.6627</td>\n",
       "      <td>20151007</td>\n",
       "      <td>172111</td>\n",
       "      <td>IN-STORE</td>\n",
       "      <td>IN-STORE</td>\n",
       "      <td>Pro Desk - Refund</td>\n",
       "      <td>Special Order Sales</td>\n",
       "      <td>360.00</td>\n",
       "      <td>1.0</td>\n",
       "      <td>11</td>\n",
       "      <td>2327</td>\n",
       "      <td>12384</td>\n",
       "      <td>11XX0101 DELIVERY</td>\n",
       "      <td>0</td>\n",
       "      <td>KG</td>\n",
       "      <td>0</td>\n",
       "      <td>0</td>\n",
       "      <td>0</td>\n",
       "      <td>0</td>\n",
       "      <td>0</td>\n",
       "      <td>FT3</td>\n",
       "      <td>1</td>\n",
       "    </tr>\n",
       "    <tr>\n",
       "      <th>2</th>\n",
       "      <td>019c0333a8cf3b36a809501efa4552c11d1d5428</td>\n",
       "      <td>360.0</td>\n",
       "      <td>0.0</td>\n",
       "      <td>0.0</td>\n",
       "      <td>870.66</td>\n",
       "      <td>0.0</td>\n",
       "      <td>0.0</td>\n",
       "      <td>0.0</td>\n",
       "      <td>0.0</td>\n",
       "      <td>0.0</td>\n",
       "      <td>0.0</td>\n",
       "      <td>0.0</td>\n",
       "      <td>0.00</td>\n",
       "      <td>170071.6878</td>\n",
       "      <td>20151007</td>\n",
       "      <td>172111</td>\n",
       "      <td>IN-STORE</td>\n",
       "      <td>IN-STORE</td>\n",
       "      <td>Pro Desk - Refund</td>\n",
       "      <td>Special Order Sales</td>\n",
       "      <td>628.74</td>\n",
       "      <td>3.0</td>\n",
       "      <td>22</td>\n",
       "      <td>2035</td>\n",
       "      <td>10201</td>\n",
       "      <td>22XX1404 BUILDERS HA</td>\n",
       "      <td>11</td>\n",
       "      <td>LB</td>\n",
       "      <td>1</td>\n",
       "      <td>1</td>\n",
       "      <td>641</td>\n",
       "      <td>IN</td>\n",
       "      <td>0</td>\n",
       "      <td>FT3</td>\n",
       "      <td>1</td>\n",
       "    </tr>\n",
       "    <tr>\n",
       "      <th>3</th>\n",
       "      <td>01d1b29d74ce8ef348df028ec12431ba12d50714</td>\n",
       "      <td>0.0</td>\n",
       "      <td>0.0</td>\n",
       "      <td>0.0</td>\n",
       "      <td>0.00</td>\n",
       "      <td>0.0</td>\n",
       "      <td>0.0</td>\n",
       "      <td>0.0</td>\n",
       "      <td>-1747.8</td>\n",
       "      <td>0.0</td>\n",
       "      <td>0.0</td>\n",
       "      <td>0.0</td>\n",
       "      <td>0.00</td>\n",
       "      <td>170069.0668</td>\n",
       "      <td>20150720</td>\n",
       "      <td>102652</td>\n",
       "      <td>IN-STORE</td>\n",
       "      <td>IN-STORE</td>\n",
       "      <td>Sp. Srvc. Dsk Refnd</td>\n",
       "      <td>Returns</td>\n",
       "      <td>-1747.80</td>\n",
       "      <td>-3.0</td>\n",
       "      <td>27</td>\n",
       "      <td>2164</td>\n",
       "      <td>11104</td>\n",
       "      <td>27XX0804 BREAKERS</td>\n",
       "      <td>0</td>\n",
       "      <td>LB</td>\n",
       "      <td>5</td>\n",
       "      <td>1</td>\n",
       "      <td>3</td>\n",
       "      <td>IN</td>\n",
       "      <td>0</td>\n",
       "      <td>FT3</td>\n",
       "      <td>1</td>\n",
       "    </tr>\n",
       "    <tr>\n",
       "      <th>4</th>\n",
       "      <td>06ce26aa191f277c3c52b3d2503d150a645e1ec3</td>\n",
       "      <td>0.0</td>\n",
       "      <td>0.0</td>\n",
       "      <td>0.0</td>\n",
       "      <td>0.00</td>\n",
       "      <td>0.0</td>\n",
       "      <td>0.0</td>\n",
       "      <td>0.0</td>\n",
       "      <td>0.0</td>\n",
       "      <td>0.0</td>\n",
       "      <td>0.0</td>\n",
       "      <td>0.0</td>\n",
       "      <td>149.88</td>\n",
       "      <td>170110.7560</td>\n",
       "      <td>20150307</td>\n",
       "      <td>100321</td>\n",
       "      <td>IN-STORE</td>\n",
       "      <td>IN-STORE</td>\n",
       "      <td>Front line - Sales</td>\n",
       "      <td>Sales</td>\n",
       "      <td>149.88</td>\n",
       "      <td>1.0</td>\n",
       "      <td>59</td>\n",
       "      <td>2300</td>\n",
       "      <td>12231</td>\n",
       "      <td>59XX2809 STOCK ROD P</td>\n",
       "      <td>2</td>\n",
       "      <td>LB</td>\n",
       "      <td>2</td>\n",
       "      <td>11</td>\n",
       "      <td>9</td>\n",
       "      <td>IN</td>\n",
       "      <td>0</td>\n",
       "      <td>FT3</td>\n",
       "      <td>0</td>\n",
       "    </tr>\n",
       "  </tbody>\n",
       "</table>\n",
       "</div>"
      ],
      "text/plain": [
       "                              Hash_Trans_ID     11  ...  Product_Volumn_Unit  PRO\n",
       "0  019c0333a8cf3b36a809501efa4552c11d1d5428  360.0  ...                  FT3    1\n",
       "1  019c0333a8cf3b36a809501efa4552c11d1d5428  360.0  ...                  FT3    1\n",
       "2  019c0333a8cf3b36a809501efa4552c11d1d5428  360.0  ...                  FT3    1\n",
       "3  01d1b29d74ce8ef348df028ec12431ba12d50714    0.0  ...                  FT3    1\n",
       "4  06ce26aa191f277c3c52b3d2503d150a645e1ec3    0.0  ...                  FT3    0\n",
       "\n",
       "[5 rows x 35 columns]"
      ]
     },
     "execution_count": 40,
     "metadata": {
      "tags": []
     },
     "output_type": "execute_result"
    }
   ],
   "source": [
    "data3.head()"
   ]
  },
  {
   "cell_type": "code",
   "execution_count": 0,
   "metadata": {
    "colab": {},
    "colab_type": "code",
    "id": "-mBxE3u9NiPx"
   },
   "outputs": [],
   "source": []
  }
 ],
 "metadata": {
  "colab": {
   "collapsed_sections": [],
   "name": "Intro_to_python.ipynb",
   "provenance": []
  },
  "kernelspec": {
   "display_name": "Python 3",
   "language": "python",
   "name": "python3"
  },
  "language_info": {
   "codemirror_mode": {
    "name": "ipython",
    "version": 3
   },
   "file_extension": ".py",
   "mimetype": "text/x-python",
   "name": "python",
   "nbconvert_exporter": "python",
   "pygments_lexer": "ipython3",
   "version": "3.7.3"
  }
 },
 "nbformat": 4,
 "nbformat_minor": 1
}
