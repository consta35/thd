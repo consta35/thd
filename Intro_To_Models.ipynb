{
  "nbformat": 4,
  "nbformat_minor": 0,
  "metadata": {
    "colab": {
      "name": "Intro_To_Models.ipynb",
      "provenance": []
    },
    "kernelspec": {
      "name": "python3",
      "display_name": "Python 3"
    }
  },
  "cells": [
    {
      "cell_type": "code",
      "metadata": {
        "id": "295xVX3vIaNN",
        "colab_type": "code",
        "colab": {}
      },
      "source": [
        "import pandas as pd\n",
        "import numpy as np\n",
        "import matplotlib.pyplot as plt\n",
        "from sklearn import metrics\n",
        "from sklearn.model_selection import train_test_split\n",
        "from sklearn.tree import DecisionTreeClassifier\n",
        "from sklearn.ensemble import RandomForestClassifier\n",
        "from sklearn.datasets import make_classification\n",
        "from sklearn.metrics import classification_report\n",
        "from sklearn.metrics import confusion_matrix\n",
        "import seaborn as sns\n",
        "from sklearn.metrics import roc_curve, auc"
      ],
      "execution_count": 0,
      "outputs": []
    },
    {
      "cell_type": "code",
      "metadata": {
        "id": "8BfK6PEQIjOI",
        "colab_type": "code",
        "colab": {}
      },
      "source": [
        "url = 'https://raw.githubusercontent.com/consta35/thd/master/Model_DataSet.csv'\n",
        "data = pd.read_csv(url)"
      ],
      "execution_count": 0,
      "outputs": []
    },
    {
      "cell_type": "code",
      "metadata": {
        "id": "Ia1hz16aIlPQ",
        "colab_type": "code",
        "colab": {
          "base_uri": "https://localhost:8080/",
          "height": 241
        },
        "outputId": "e134d420-a183-4433-bc47-47ece5a7ee69"
      },
      "source": [
        "data.head()"
      ],
      "execution_count": 3,
      "outputs": [
        {
          "output_type": "execute_result",
          "data": {
            "text/html": [
              "<div>\n",
              "<style scoped>\n",
              "    .dataframe tbody tr th:only-of-type {\n",
              "        vertical-align: middle;\n",
              "    }\n",
              "\n",
              "    .dataframe tbody tr th {\n",
              "        vertical-align: top;\n",
              "    }\n",
              "\n",
              "    .dataframe thead th {\n",
              "        text-align: right;\n",
              "    }\n",
              "</style>\n",
              "<table border=\"1\" class=\"dataframe\">\n",
              "  <thead>\n",
              "    <tr style=\"text-align: right;\">\n",
              "      <th></th>\n",
              "      <th>Unnamed: 0</th>\n",
              "      <th>Hash_Trans_ID</th>\n",
              "      <th>PRO</th>\n",
              "      <th>SKU_ID</th>\n",
              "      <th>Transaction_Date_ID</th>\n",
              "      <th>Transaction_Hour_ID</th>\n",
              "      <th>Online_Order_Type_Desc</th>\n",
              "      <th>POS_Sales</th>\n",
              "      <th>POS_UnitsSold</th>\n",
              "      <th>Department_ID</th>\n",
              "      <th>Class_ID</th>\n",
              "      <th>SubClass_ID</th>\n",
              "      <th>Dept_11</th>\n",
              "      <th>Dept_13</th>\n",
              "      <th>Dept_16</th>\n",
              "      <th>Dept_17</th>\n",
              "      <th>Dept_21</th>\n",
              "      <th>Dept_22</th>\n",
              "      <th>Dept_23</th>\n",
              "      <th>Dept_24</th>\n",
              "      <th>Dept_25</th>\n",
              "      <th>Dept_26</th>\n",
              "      <th>Dept_27</th>\n",
              "      <th>Dept_28</th>\n",
              "      <th>Dept_29</th>\n",
              "      <th>Dept_30</th>\n",
              "      <th>Dept_59</th>\n",
              "      <th>Dept_78</th>\n",
              "    </tr>\n",
              "  </thead>\n",
              "  <tbody>\n",
              "    <tr>\n",
              "      <th>0</th>\n",
              "      <td>0</td>\n",
              "      <td>0000bb03239052a594e2f415b0d2643b8d498ae0</td>\n",
              "      <td>0</td>\n",
              "      <td>1.0</td>\n",
              "      <td>1</td>\n",
              "      <td>153217</td>\n",
              "      <td>1</td>\n",
              "      <td>106.92</td>\n",
              "      <td>3.0</td>\n",
              "      <td>1</td>\n",
              "      <td>1</td>\n",
              "      <td>1</td>\n",
              "      <td>0.0</td>\n",
              "      <td>0.0</td>\n",
              "      <td>0.0</td>\n",
              "      <td>0.0</td>\n",
              "      <td>0.0</td>\n",
              "      <td>106.92</td>\n",
              "      <td>0.00</td>\n",
              "      <td>0.0</td>\n",
              "      <td>0.00</td>\n",
              "      <td>0.00</td>\n",
              "      <td>0.0</td>\n",
              "      <td>0.0</td>\n",
              "      <td>0.0</td>\n",
              "      <td>0.0</td>\n",
              "      <td>0.0</td>\n",
              "      <td>0.0</td>\n",
              "    </tr>\n",
              "    <tr>\n",
              "      <th>1</th>\n",
              "      <td>1</td>\n",
              "      <td>0005b97485fac2f1027d049dbab9484354d599c9</td>\n",
              "      <td>1</td>\n",
              "      <td>2.0</td>\n",
              "      <td>1</td>\n",
              "      <td>113926</td>\n",
              "      <td>1</td>\n",
              "      <td>213.96</td>\n",
              "      <td>3.0</td>\n",
              "      <td>1</td>\n",
              "      <td>1</td>\n",
              "      <td>1</td>\n",
              "      <td>0.0</td>\n",
              "      <td>0.0</td>\n",
              "      <td>0.0</td>\n",
              "      <td>0.0</td>\n",
              "      <td>0.0</td>\n",
              "      <td>0.00</td>\n",
              "      <td>0.00</td>\n",
              "      <td>0.0</td>\n",
              "      <td>213.96</td>\n",
              "      <td>0.00</td>\n",
              "      <td>0.0</td>\n",
              "      <td>0.0</td>\n",
              "      <td>0.0</td>\n",
              "      <td>0.0</td>\n",
              "      <td>0.0</td>\n",
              "      <td>0.0</td>\n",
              "    </tr>\n",
              "    <tr>\n",
              "      <th>2</th>\n",
              "      <td>2</td>\n",
              "      <td>0006d7dd4c3fd47287aca3bbeb1976cb4edc4a7d</td>\n",
              "      <td>0</td>\n",
              "      <td>2.0</td>\n",
              "      <td>1</td>\n",
              "      <td>83123</td>\n",
              "      <td>1</td>\n",
              "      <td>147.36</td>\n",
              "      <td>2.0</td>\n",
              "      <td>1</td>\n",
              "      <td>1</td>\n",
              "      <td>2</td>\n",
              "      <td>0.0</td>\n",
              "      <td>0.0</td>\n",
              "      <td>0.0</td>\n",
              "      <td>0.0</td>\n",
              "      <td>0.0</td>\n",
              "      <td>147.36</td>\n",
              "      <td>0.00</td>\n",
              "      <td>0.0</td>\n",
              "      <td>0.00</td>\n",
              "      <td>0.00</td>\n",
              "      <td>0.0</td>\n",
              "      <td>0.0</td>\n",
              "      <td>0.0</td>\n",
              "      <td>0.0</td>\n",
              "      <td>0.0</td>\n",
              "      <td>0.0</td>\n",
              "    </tr>\n",
              "    <tr>\n",
              "      <th>3</th>\n",
              "      <td>3</td>\n",
              "      <td>000804cdaf4d7cc1fdf80dffe49294a0038c0ee3</td>\n",
              "      <td>1</td>\n",
              "      <td>1.0</td>\n",
              "      <td>1</td>\n",
              "      <td>115908</td>\n",
              "      <td>1</td>\n",
              "      <td>-209.94</td>\n",
              "      <td>-1.0</td>\n",
              "      <td>1</td>\n",
              "      <td>1</td>\n",
              "      <td>1</td>\n",
              "      <td>0.0</td>\n",
              "      <td>0.0</td>\n",
              "      <td>0.0</td>\n",
              "      <td>0.0</td>\n",
              "      <td>0.0</td>\n",
              "      <td>0.00</td>\n",
              "      <td>0.00</td>\n",
              "      <td>0.0</td>\n",
              "      <td>0.00</td>\n",
              "      <td>-209.94</td>\n",
              "      <td>0.0</td>\n",
              "      <td>0.0</td>\n",
              "      <td>0.0</td>\n",
              "      <td>0.0</td>\n",
              "      <td>0.0</td>\n",
              "      <td>0.0</td>\n",
              "    </tr>\n",
              "    <tr>\n",
              "      <th>4</th>\n",
              "      <td>4</td>\n",
              "      <td>000910b9b7e93578aaf6d19ae923d4dfe0bac76d</td>\n",
              "      <td>1</td>\n",
              "      <td>3.0</td>\n",
              "      <td>1</td>\n",
              "      <td>114230</td>\n",
              "      <td>1</td>\n",
              "      <td>602.16</td>\n",
              "      <td>5.0</td>\n",
              "      <td>2</td>\n",
              "      <td>2</td>\n",
              "      <td>3</td>\n",
              "      <td>0.0</td>\n",
              "      <td>0.0</td>\n",
              "      <td>0.0</td>\n",
              "      <td>0.0</td>\n",
              "      <td>0.0</td>\n",
              "      <td>0.00</td>\n",
              "      <td>359.46</td>\n",
              "      <td>242.7</td>\n",
              "      <td>0.00</td>\n",
              "      <td>0.00</td>\n",
              "      <td>0.0</td>\n",
              "      <td>0.0</td>\n",
              "      <td>0.0</td>\n",
              "      <td>0.0</td>\n",
              "      <td>0.0</td>\n",
              "      <td>0.0</td>\n",
              "    </tr>\n",
              "  </tbody>\n",
              "</table>\n",
              "</div>"
            ],
            "text/plain": [
              "   Unnamed: 0                             Hash_Trans_ID  ...  Dept_59  Dept_78\n",
              "0           0  0000bb03239052a594e2f415b0d2643b8d498ae0  ...      0.0      0.0\n",
              "1           1  0005b97485fac2f1027d049dbab9484354d599c9  ...      0.0      0.0\n",
              "2           2  0006d7dd4c3fd47287aca3bbeb1976cb4edc4a7d  ...      0.0      0.0\n",
              "3           3  000804cdaf4d7cc1fdf80dffe49294a0038c0ee3  ...      0.0      0.0\n",
              "4           4  000910b9b7e93578aaf6d19ae923d4dfe0bac76d  ...      0.0      0.0\n",
              "\n",
              "[5 rows x 28 columns]"
            ]
          },
          "metadata": {
            "tags": []
          },
          "execution_count": 3
        }
      ]
    },
    {
      "cell_type": "code",
      "metadata": {
        "id": "yO6ZV7-uIq5Q",
        "colab_type": "code",
        "colab": {
          "base_uri": "https://localhost:8080/",
          "height": 493
        },
        "outputId": "c7a37cbf-e905-4642-9906-070a11534353"
      },
      "source": [
        "list(data.columns)"
      ],
      "execution_count": 4,
      "outputs": [
        {
          "output_type": "execute_result",
          "data": {
            "text/plain": [
              "['Unnamed: 0',\n",
              " 'Hash_Trans_ID',\n",
              " 'PRO',\n",
              " 'SKU_ID',\n",
              " 'Transaction_Date_ID',\n",
              " 'Transaction_Hour_ID',\n",
              " 'Online_Order_Type_Desc',\n",
              " 'POS_Sales',\n",
              " 'POS_UnitsSold',\n",
              " 'Department_ID',\n",
              " 'Class_ID',\n",
              " 'SubClass_ID',\n",
              " 'Dept_11',\n",
              " 'Dept_13',\n",
              " 'Dept_16',\n",
              " 'Dept_17',\n",
              " 'Dept_21',\n",
              " 'Dept_22',\n",
              " 'Dept_23',\n",
              " 'Dept_24',\n",
              " 'Dept_25',\n",
              " 'Dept_26',\n",
              " 'Dept_27',\n",
              " 'Dept_28',\n",
              " 'Dept_29',\n",
              " 'Dept_30',\n",
              " 'Dept_59',\n",
              " 'Dept_78']"
            ]
          },
          "metadata": {
            "tags": []
          },
          "execution_count": 4
        }
      ]
    },
    {
      "cell_type": "code",
      "metadata": {
        "id": "psYXZL4DIq1_",
        "colab_type": "code",
        "colab": {}
      },
      "source": [
        "X = data[[\n",
        "'SKU_ID',\n",
        " 'Transaction_Date_ID',\n",
        " 'Transaction_Hour_ID',\n",
        " 'Online_Order_Type_Desc',\n",
        " 'POS_Sales',\n",
        " 'POS_UnitsSold',\n",
        " 'Department_ID',\n",
        " 'Class_ID',\n",
        " 'SubClass_ID',\n",
        " 'Dept_11',\n",
        " 'Dept_13',\n",
        " 'Dept_16',\n",
        " 'Dept_17',\n",
        " 'Dept_21',\n",
        " 'Dept_22',\n",
        " 'Dept_23',\n",
        " 'Dept_24',\n",
        " 'Dept_25',\n",
        " 'Dept_26',\n",
        " 'Dept_27',\n",
        " 'Dept_28',\n",
        " 'Dept_29',\n",
        " 'Dept_30',\n",
        " 'Dept_59',\n",
        " 'Dept_78']]\n",
        "y = data['PRO']"
      ],
      "execution_count": 0,
      "outputs": []
    },
    {
      "cell_type": "code",
      "metadata": {
        "id": "DPq4eKZ0Iqym",
        "colab_type": "code",
        "colab": {}
      },
      "source": [
        "X_train, X_test, y_train, y_test = train_test_split(X, y)"
      ],
      "execution_count": 0,
      "outputs": []
    },
    {
      "cell_type": "code",
      "metadata": {
        "id": "NZ663b2lIqpF",
        "colab_type": "code",
        "colab": {
          "base_uri": "https://localhost:8080/",
          "height": 204
        },
        "outputId": "4f9c6dca-9ba0-497d-febf-0eab67ef06c7"
      },
      "source": [
        "rfc = RandomForestClassifier(n_estimators=20, n_jobs = -2, random_state = 42)\n",
        "rfc.fit(X_train,  y_train)\n",
        "    \n",
        "# Predict the labels of the test set: y_pred\n",
        "y_pred = rfc.predict(X_test)\n",
        "\n",
        "    # Compute and print the confusion matrix and classification report\n",
        "print(confusion_matrix(y_test, y_pred))\n",
        "print(classification_report(y_test, y_pred))"
      ],
      "execution_count": 8,
      "outputs": [
        {
          "output_type": "stream",
          "text": [
            "[[10  7]\n",
            " [12 21]]\n",
            "              precision    recall  f1-score   support\n",
            "\n",
            "           0       0.45      0.59      0.51        17\n",
            "           1       0.75      0.64      0.69        33\n",
            "\n",
            "    accuracy                           0.62        50\n",
            "   macro avg       0.60      0.61      0.60        50\n",
            "weighted avg       0.65      0.62      0.63        50\n",
            "\n"
          ],
          "name": "stdout"
        }
      ]
    },
    {
      "cell_type": "markdown",
      "metadata": {
        "id": "Dlo358L4Wauc",
        "colab_type": "text"
      },
      "source": [
        "# **Precision = True Positive / (True Positive + False Negative)**\n",
        "\n",
        "## Out of everyone we predicted to be a PRO, how many were actual PROs?"
      ]
    },
    {
      "cell_type": "markdown",
      "metadata": {
        "id": "0f4jOLBNTK1U",
        "colab_type": "text"
      },
      "source": [
        "# **Recall = True Positive / (True Positive + False Negative)**\n",
        "\n",
        "## Out of all the actual PROs, how many did we actually classify correctly?"
      ]
    },
    {
      "cell_type": "code",
      "metadata": {
        "id": "xiArfG_0Iqi-",
        "colab_type": "code",
        "colab": {}
      },
      "source": [
        "fpr, tpr, _= roc_curve(y_test, y_pred)"
      ],
      "execution_count": 0,
      "outputs": []
    },
    {
      "cell_type": "code",
      "metadata": {
        "id": "nHvDG1PDIqgF",
        "colab_type": "code",
        "colab": {
          "base_uri": "https://localhost:8080/",
          "height": 295
        },
        "outputId": "401000ba-9a1c-4747-c2a8-594110277aab"
      },
      "source": [
        "plt.plot([0, 1], [0, 1], 'k--')\n",
        "plt.plot(fpr, tpr)\n",
        "plt.xlabel('False positive rate')\n",
        "plt.ylabel('True positive rate')\n",
        "plt.title('ROC curve')\n",
        "plt.show()"
      ],
      "execution_count": 14,
      "outputs": [
        {
          "output_type": "display_data",
          "data": {
            "image/png": "[encoded data removed]",
            "text/plain": [
              "<Figure size 432x288 with 1 Axes>"
            ]
          },
          "metadata": {
            "tags": []
          }
        }
      ]
    },
    {
      "cell_type": "code",
      "metadata": {
        "id": "YIpGgLCoIqdV",
        "colab_type": "code",
        "colab": {}
      },
      "source": [
        "test_pred = rfc.predict_proba(X_test)\n",
        "predictions = np.array(test_pred)[:,1]\n",
        "actuals = y_test.astype('int')"
      ],
      "execution_count": 0,
      "outputs": []
    },
    {
      "cell_type": "code",
      "metadata": {
        "id": "e_APQ1TEIqae",
        "colab_type": "code",
        "colab": {
          "base_uri": "https://localhost:8080/",
          "height": 34
        },
        "outputId": "edf24c9c-64ef-4a6c-c61f-f6f0b635744e"
      },
      "source": [
        "fpr, tpr, thresholds = metrics.roc_curve(actuals, predictions, pos_label=1)\n",
        "metrics.auc(fpr, tpr)"
      ],
      "execution_count": 19,
      "outputs": [
        {
          "output_type": "execute_result",
          "data": {
            "text/plain": [
              "0.6657754010695188"
            ]
          },
          "metadata": {
            "tags": []
          },
          "execution_count": 19
        }
      ]
    },
    {
      "cell_type": "code",
      "metadata": {
        "id": "Q3rkoLTjIqX_",
        "colab_type": "code",
        "colab": {}
      },
      "source": [
        ""
      ],
      "execution_count": 0,
      "outputs": []
    },
    {
      "cell_type": "code",
      "metadata": {
        "id": "OpVV7dQLIqVu",
        "colab_type": "code",
        "colab": {}
      },
      "source": [
        ""
      ],
      "execution_count": 0,
      "outputs": []
    },
    {
      "cell_type": "code",
      "metadata": {
        "id": "aDYgZhTJIqSd",
        "colab_type": "code",
        "colab": {}
      },
      "source": [
        ""
      ],
      "execution_count": 0,
      "outputs": []
    },
    {
      "cell_type": "code",
      "metadata": {
        "id": "VG8FXXAgIqGG",
        "colab_type": "code",
        "colab": {}
      },
      "source": [
        ""
      ],
      "execution_count": 0,
      "outputs": []
    }
  ]
}